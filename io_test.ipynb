{
 "cells": [
  {
   "cell_type": "code",
   "execution_count": 63,
   "metadata": {},
   "outputs": [
    {
     "name": "stdout",
     "output_type": "stream",
     "text": [
      "The autoreload extension is already loaded. To reload it, use:\n",
      "  %reload_ext autoreload\n"
     ]
    }
   ],
   "source": [
    "%load_ext autoreload\n",
    "%autoreload 2\n",
    "import sleap_io as sio\n",
    "import pynwb\n",
    "import numpy as np\n",
    "from numpy.testing import assert_equal\n",
    "from sleap_io import save_file\n",
    "from sleap_io.model.skeleton import Node, Edge, Symmetry, Skeleton\n",
    "from sleap_io.model.instance import *\n",
    "from pynwb.image import ImageSeries\n",
    "from ndx_pose import (\n",
    "    PoseEstimation,\n",
    "    PoseEstimationSeries,\n",
    "    TrainingFrame,\n",
    "    TrainingFrames,\n",
    "    PoseTraining,\n",
    "    SourceVideos,\n",
    ")\n",
    "from sleap_io.io.nwb import *"
   ]
  },
  {
   "cell_type": "code",
   "execution_count": 64,
   "metadata": {},
   "outputs": [
    {
     "data": {
      "text/html": [
       "\n",
       "        <style>\n",
       "            .container-fields {\n",
       "                font-family: \"Open Sans\", Arial, sans-serif;\n",
       "            }\n",
       "            .container-fields .field-value {\n",
       "                color: #00788E;\n",
       "            }\n",
       "            .container-fields details > summary {\n",
       "                cursor: pointer;\n",
       "                display: list-item;\n",
       "            }\n",
       "            .container-fields details > summary:hover {\n",
       "                color: #0A6EAA;\n",
       "            }\n",
       "        </style>\n",
       "        \n",
       "        <script>\n",
       "            function copyToClipboard(text) {\n",
       "                navigator.clipboard.writeText(text).then(function() {\n",
       "                    console.log('Copied to clipboard: ' + text);\n",
       "                }, function(err) {\n",
       "                    console.error('Could not copy text: ', err);\n",
       "                });\n",
       "            }\n",
       "\n",
       "            document.addEventListener('DOMContentLoaded', function() {\n",
       "                let fieldKeys = document.querySelectorAll('.container-fields .field-key');\n",
       "                fieldKeys.forEach(function(fieldKey) {\n",
       "                    fieldKey.addEventListener('click', function() {\n",
       "                        let accessCode = fieldKey.getAttribute('title').replace('Access code: ', '');\n",
       "                        copyToClipboard(accessCode);\n",
       "                    });\n",
       "                });\n",
       "            });\n",
       "        </script>\n",
       "        <div class='container-wrap'><div class='container-header'><div class='xr-obj-type'><h3>PoseTraining</h3></div></div><details><summary style=\"display: list-item; margin-left: 0px;\" class=\"container-fields field-key\" title=\".training_frames\"><b>training_frames</b></summary><details><summary style=\"display: list-item; margin-left: 20px;\" class=\"container-fields field-key\" title=\".training_frames.training_frames\"><b>training_frames</b></summary><details><summary style=\"display: list-item; margin-left: 40px;\" class=\"container-fields field-key\" title=\".training_frames.training_frames['training_frame44']\"><b>training_frame44</b></summary><div style=\"margin-left: 60px;\" class=\"container-fields\"><span class=\"field-key\" title=\".training_frames.training_frames['training_frame44'].annotator\">annotator: </span><span class=\"field-value\">training_frame440</span></div><details><summary style=\"display: list-item; margin-left: 60px;\" class=\"container-fields field-key\" title=\".training_frames.training_frames['training_frame44'].source_video_frame_index\"><b>source_video_frame_index</b></summary><span class=\"field-key\">0</span></details><details><summary style=\"display: list-item; margin-left: 60px;\" class=\"container-fields field-key\" title=\".training_frames.training_frames['training_frame44'].skeleton_instances\"><b>skeleton_instances</b></summary><details><summary style=\"display: list-item; margin-left: 80px;\" class=\"container-fields field-key\" title=\".training_frames.training_frames['training_frame44'].skeleton_instances.skeleton_instances\"><b>skeleton_instances</b></summary><details><summary style=\"display: list-item; margin-left: 100px;\" class=\"container-fields field-key\" title=\".training_frames.training_frames['training_frame44'].skeleton_instances.skeleton_instances['skeleton_instance70']\"><b>skeleton_instance70</b></summary><details><summary style=\"display: list-item; margin-left: 120px;\" class=\"container-fields field-key\" title=\".training_frames.training_frames['training_frame44'].skeleton_instances.skeleton_instances['skeleton_instance70'].id\"><b>id</b></summary><span class=\"field-key\">10</span></details><details><summary style=\"display: list-item; margin-left: 120px;\" class=\"container-fields field-key\" title=\".training_frames.training_frames['training_frame44'].skeleton_instances.skeleton_instances['skeleton_instance70'].node_locations\"><b>node_locations</b></summary><div style=\"margin-left: 140px;\" class=\"container-fields\">[[ 92.65220773 202.72597774]</br> [152.34188116 158.42364351]]</div></details><details><summary style=\"display: list-item; margin-left: 120px;\" class=\"container-fields field-key\" title=\".training_frames.training_frames['training_frame44'].skeleton_instances.skeleton_instances['skeleton_instance70'].node_visibility\"><b>node_visibility</b></summary><div style=\"margin-left: 140px;\" class=\"container-fields\"><span class=\"field-key\" title=\".training_frames.training_frames['training_frame44'].skeleton_instances.skeleton_instances['skeleton_instance70'].node_visibility[0]\">0: </span><span class=\"field-value\">True</span></div><div style=\"margin-left: 140px;\" class=\"container-fields\"><span class=\"field-key\" title=\".training_frames.training_frames['training_frame44'].skeleton_instances.skeleton_instances['skeleton_instance70'].node_visibility[0][1]\">1: </span><span class=\"field-value\">True</span></div></details><details><summary style=\"display: list-item; margin-left: 120px;\" class=\"container-fields field-key\" title=\".training_frames.training_frames['training_frame44'].skeleton_instances.skeleton_instances['skeleton_instance70'].skeleton\"><b>skeleton</b></summary><details><summary style=\"display: list-item; margin-left: 140px;\" class=\"container-fields field-key\" title=\".training_frames.training_frames['training_frame44'].skeleton_instances.skeleton_instances['skeleton_instance70'].skeleton.nodes\"><b>nodes</b></summary><div style=\"margin-left: 160px;\" class=\"container-fields\"><span class=\"field-key\" title=\".training_frames.training_frames['training_frame44'].skeleton_instances.skeleton_instances['skeleton_instance70'].skeleton.nodes[0]\">0: </span><span class=\"field-value\">A</span></div><div style=\"margin-left: 160px;\" class=\"container-fields\"><span class=\"field-key\" title=\".training_frames.training_frames['training_frame44'].skeleton_instances.skeleton_instances['skeleton_instance70'].skeleton.nodes[0][1]\">1: </span><span class=\"field-value\">B</span></div></details><details><summary style=\"display: list-item; margin-left: 140px;\" class=\"container-fields field-key\" title=\".training_frames.training_frames['training_frame44'].skeleton_instances.skeleton_instances['skeleton_instance70'].skeleton.edges\"><b>edges</b></summary><div style=\"margin-left: 160px;\" class=\"container-fields\">[[0 1]]</div></details></details></details><details><summary style=\"display: list-item; margin-left: 100px;\" class=\"container-fields field-key\" title=\".training_frames.training_frames['training_frame44'].skeleton_instances.skeleton_instances['skeleton_instance71']\"><b>skeleton_instance71</b></summary><details><summary style=\"display: list-item; margin-left: 120px;\" class=\"container-fields field-key\" title=\".training_frames.training_frames['training_frame44'].skeleton_instances.skeleton_instances['skeleton_instance71'].id\"><b>id</b></summary><span class=\"field-key\">10</span></details><details><summary style=\"display: list-item; margin-left: 120px;\" class=\"container-fields field-key\" title=\".training_frames.training_frames['training_frame44'].skeleton_instances.skeleton_instances['skeleton_instance71'].node_locations\"><b>node_locations</b></summary><div style=\"margin-left: 140px;\" class=\"container-fields\">[[205.9300539  187.88964024]</br> [278.63521449 203.36586573]]</div></details><details><summary style=\"display: list-item; margin-left: 120px;\" class=\"container-fields field-key\" title=\".training_frames.training_frames['training_frame44'].skeleton_instances.skeleton_instances['skeleton_instance71'].node_visibility\"><b>node_visibility</b></summary><div style=\"margin-left: 140px;\" class=\"container-fields\"><span class=\"field-key\" title=\".training_frames.training_frames['training_frame44'].skeleton_instances.skeleton_instances['skeleton_instance71'].node_visibility[0]\">0: </span><span class=\"field-value\">True</span></div><div style=\"margin-left: 140px;\" class=\"container-fields\"><span class=\"field-key\" title=\".training_frames.training_frames['training_frame44'].skeleton_instances.skeleton_instances['skeleton_instance71'].node_visibility[0][1]\">1: </span><span class=\"field-value\">True</span></div></details><details><summary style=\"display: list-item; margin-left: 120px;\" class=\"container-fields field-key\" title=\".training_frames.training_frames['training_frame44'].skeleton_instances.skeleton_instances['skeleton_instance71'].skeleton\"><b>skeleton</b></summary><details><summary style=\"display: list-item; margin-left: 140px;\" class=\"container-fields field-key\" title=\".training_frames.training_frames['training_frame44'].skeleton_instances.skeleton_instances['skeleton_instance71'].skeleton.nodes\"><b>nodes</b></summary><div style=\"margin-left: 160px;\" class=\"container-fields\"><span class=\"field-key\" title=\".training_frames.training_frames['training_frame44'].skeleton_instances.skeleton_instances['skeleton_instance71'].skeleton.nodes[0]\">0: </span><span class=\"field-value\">A</span></div><div style=\"margin-left: 160px;\" class=\"container-fields\"><span class=\"field-key\" title=\".training_frames.training_frames['training_frame44'].skeleton_instances.skeleton_instances['skeleton_instance71'].skeleton.nodes[0][1]\">1: </span><span class=\"field-value\">B</span></div></details><details><summary style=\"display: list-item; margin-left: 140px;\" class=\"container-fields field-key\" title=\".training_frames.training_frames['training_frame44'].skeleton_instances.skeleton_instances['skeleton_instance71'].skeleton.edges\"><b>edges</b></summary><div style=\"margin-left: 160px;\" class=\"container-fields\">[[0 1]]</div></details></details></details></details></details><details><summary style=\"display: list-item; margin-left: 60px;\" class=\"container-fields field-key\" title=\".training_frames.training_frames['training_frame44'].source_video\"><b>source_video</b></summary><div style=\"margin-left: 80px;\" class=\"container-fields\"><span class=\"field-key\" title=\".training_frames.training_frames['training_frame44'].source_video.rate\">rate: </span><span class=\"field-value\">30.0</span></div><div style=\"margin-left: 80px;\" class=\"container-fields\"><span class=\"field-key\" title=\".training_frames.training_frames['training_frame44'].source_video.resolution\">resolution: </span><span class=\"field-value\">-1.0</span></div><div style=\"margin-left: 80px;\" class=\"container-fields\"><span class=\"field-key\" title=\".training_frames.training_frames['training_frame44'].source_video.comments\">comments: </span><span class=\"field-value\">no comments</span></div><div style=\"margin-left: 80px;\" class=\"container-fields\"><span class=\"field-key\" title=\".training_frames.training_frames['training_frame44'].source_video.description\">description: </span><span class=\"field-value\">training_frame440</span></div><div style=\"margin-left: 80px;\" class=\"container-fields\"><span class=\"field-key\" title=\".training_frames.training_frames['training_frame44'].source_video.conversion\">conversion: </span><span class=\"field-value\">1.0</span></div><div style=\"margin-left: 80px;\" class=\"container-fields\"><span class=\"field-key\" title=\".training_frames.training_frames['training_frame44'].source_video.offset\">offset: </span><span class=\"field-value\">0.0</span></div><div style=\"margin-left: 80px;\" class=\"container-fields\"><span class=\"field-key\" title=\".training_frames.training_frames['training_frame44'].source_video.unit\">unit: </span><span class=\"field-value\">NA</span></div><details><summary style=\"display: list-item; margin-left: 80px;\" class=\"container-fields field-key\" title=\".training_frames.training_frames['training_frame44'].source_video.data\"><b>data</b></summary><div style=\"margin-left: 100px;\" class=\"container-fields\">[]</div></details><div style=\"margin-left: 80px;\" class=\"container-fields\"><span class=\"field-key\" title=\".training_frames.training_frames['training_frame44'].source_video.starting_time\">starting_time: </span><span class=\"field-value\">0.0</span></div><div style=\"margin-left: 80px;\" class=\"container-fields\"><span class=\"field-key\" title=\".training_frames.training_frames['training_frame44'].source_video.starting_time_unit\">starting_time_unit: </span><span class=\"field-value\">seconds</span></div><details><summary style=\"display: list-item; margin-left: 80px;\" class=\"container-fields field-key\" title=\".training_frames.training_frames['training_frame44'].source_video.dimension\"><b>dimension</b></summary><div style=\"margin-left: 100px;\" class=\"container-fields\"><span class=\"field-key\" title=\".training_frames.training_frames['training_frame44'].source_video.dimension[0]\">0: </span><span class=\"field-value\">384</span></div><div style=\"margin-left: 100px;\" class=\"container-fields\"><span class=\"field-key\" title=\".training_frames.training_frames['training_frame44'].source_video.dimension[0][1]\">1: </span><span class=\"field-value\">384</span></div></details><details><summary style=\"display: list-item; margin-left: 80px;\" class=\"container-fields field-key\" title=\".training_frames.training_frames['training_frame44'].source_video.external_file\"><b>external_file</b></summary><div style=\"margin-left: 100px;\" class=\"container-fields\"><span class=\"field-key\" title=\".training_frames.training_frames['training_frame44'].source_video.external_file[0]\">0: </span><span class=\"field-value\">tests/data/slp/minimal_instance.pkg.slp</span></div></details><details><summary style=\"display: list-item; margin-left: 80px;\" class=\"container-fields field-key\" title=\".training_frames.training_frames['training_frame44'].source_video.starting_frame\"><b>starting_frame</b></summary><div style=\"margin-left: 100px;\" class=\"container-fields\"><span class=\"field-key\" title=\".training_frames.training_frames['training_frame44'].source_video.starting_frame[0]\">0: </span><span class=\"field-value\">0</span></div></details><div style=\"margin-left: 80px;\" class=\"container-fields\"><span class=\"field-key\" title=\".training_frames.training_frames['training_frame44'].source_video.format\">format: </span><span class=\"field-value\">external</span></div></details></details></details></details><details><summary style=\"display: list-item; margin-left: 0px;\" class=\"container-fields field-key\" title=\".source_videos\"><b>source_videos</b></summary><details><summary style=\"display: list-item; margin-left: 20px;\" class=\"container-fields field-key\" title=\".source_videos.image_series\"><b>image_series</b></summary><details><summary style=\"display: list-item; margin-left: 40px;\" class=\"container-fields field-key\" title=\".source_videos.image_series['video_0']\"><b>video_0</b></summary><div style=\"margin-left: 60px;\" class=\"container-fields\"><span class=\"field-key\" title=\".source_videos.image_series['video_0'].rate\">rate: </span><span class=\"field-value\">30.0</span></div><div style=\"margin-left: 60px;\" class=\"container-fields\"><span class=\"field-key\" title=\".source_videos.image_series['video_0'].resolution\">resolution: </span><span class=\"field-value\">-1.0</span></div><div style=\"margin-left: 60px;\" class=\"container-fields\"><span class=\"field-key\" title=\".source_videos.image_series['video_0'].comments\">comments: </span><span class=\"field-value\">no comments</span></div><div style=\"margin-left: 60px;\" class=\"container-fields\"><span class=\"field-key\" title=\".source_videos.image_series['video_0'].description\">description: </span><span class=\"field-value\">Video file</span></div><div style=\"margin-left: 60px;\" class=\"container-fields\"><span class=\"field-key\" title=\".source_videos.image_series['video_0'].conversion\">conversion: </span><span class=\"field-value\">1.0</span></div><div style=\"margin-left: 60px;\" class=\"container-fields\"><span class=\"field-key\" title=\".source_videos.image_series['video_0'].offset\">offset: </span><span class=\"field-value\">0.0</span></div><div style=\"margin-left: 60px;\" class=\"container-fields\"><span class=\"field-key\" title=\".source_videos.image_series['video_0'].unit\">unit: </span><span class=\"field-value\">NA</span></div><details><summary style=\"display: list-item; margin-left: 60px;\" class=\"container-fields field-key\" title=\".source_videos.image_series['video_0'].data\"><b>data</b></summary><div style=\"margin-left: 80px;\" class=\"container-fields\">[]</div></details><div style=\"margin-left: 60px;\" class=\"container-fields\"><span class=\"field-key\" title=\".source_videos.image_series['video_0'].starting_time\">starting_time: </span><span class=\"field-value\">0.0</span></div><div style=\"margin-left: 60px;\" class=\"container-fields\"><span class=\"field-key\" title=\".source_videos.image_series['video_0'].starting_time_unit\">starting_time_unit: </span><span class=\"field-value\">seconds</span></div><details><summary style=\"display: list-item; margin-left: 60px;\" class=\"container-fields field-key\" title=\".source_videos.image_series['video_0'].dimension\"><b>dimension</b></summary><div style=\"margin-left: 80px;\" class=\"container-fields\"><span class=\"field-key\" title=\".source_videos.image_series['video_0'].dimension[0]\">0: </span><span class=\"field-value\">384</span></div><div style=\"margin-left: 80px;\" class=\"container-fields\"><span class=\"field-key\" title=\".source_videos.image_series['video_0'].dimension[0][1]\">1: </span><span class=\"field-value\">384</span></div></details><details><summary style=\"display: list-item; margin-left: 60px;\" class=\"container-fields field-key\" title=\".source_videos.image_series['video_0'].external_file\"><b>external_file</b></summary><div style=\"margin-left: 80px;\" class=\"container-fields\"><span class=\"field-key\" title=\".source_videos.image_series['video_0'].external_file[0]\">0: </span><span class=\"field-value\">tests/data/slp/minimal_instance.pkg.slp</span></div></details><details><summary style=\"display: list-item; margin-left: 60px;\" class=\"container-fields field-key\" title=\".source_videos.image_series['video_0'].starting_frame\"><b>starting_frame</b></summary><div style=\"margin-left: 80px;\" class=\"container-fields\"><span class=\"field-key\" title=\".source_videos.image_series['video_0'].starting_frame[0]\">0: </span><span class=\"field-value\">0</span></div></details><div style=\"margin-left: 60px;\" class=\"container-fields\"><span class=\"field-key\" title=\".source_videos.image_series['video_0'].format\">format: </span><span class=\"field-value\">external</span></div></details></details></details></div>"
      ],
      "text/plain": [
       "PoseTraining abc.PoseTraining at 0x4342072624\n",
       "Fields:\n",
       "  source_videos: source_videos abc.SourceVideos at 0x5743911680\n",
       "Fields:\n",
       "  image_series: {\n",
       "    video_0 <class 'pynwb.image.ImageSeries'>\n",
       "  }\n",
       "\n",
       "  training_frames: training_frames abc.TrainingFrames at 0x4342072912\n",
       "Fields:\n",
       "  training_frames: {\n",
       "    training_frame44 <class 'abc.TrainingFrame'>\n",
       "  }\n"
      ]
     },
     "execution_count": 64,
     "metadata": {},
     "output_type": "execute_result"
    }
   ],
   "source": [
    "labels_original = sio.load_slp(\"tests/data/slp/minimal_instance.pkg.slp\")\n",
    "skel = Skeleton([Node(\"A\"), Node(\"B\")])\n",
    "skel.name = \"name\"\n",
    "skel.edges = [Edge(Node(\"A\"), Node(\"B\"))]\n",
    "slp_skeleton_to_nwb(skel)\n",
    "\n",
    "inst = Instance({\"A\": [0, 1], \"B\": [2, 3]}, skeleton=Skeleton([\"A\", \"B\"]))\n",
    "inst.skeleton.name = \"name\"\n",
    "inst.skeleton.edges = [Edge(Node(\"A\"), Node(\"B\"))]\n",
    "instance_to_skeleton_instance(inst)\n",
    "\n",
    "labels_to_pose_training(labels_original)"
   ]
  },
  {
   "cell_type": "code",
   "execution_count": 66,
   "metadata": {},
   "outputs": [
    {
     "name": "stdout",
     "output_type": "stream",
     "text": [
      "training_frames abc.TrainingFrames at 0x5737829616\n",
      "Fields:\n",
      "  training_frames: {\n",
      "    training_frame46 <class 'abc.TrainingFrame'>\n",
      "  }\n",
      "\n",
      "source_videos abc.SourceVideos at 0x5697520512\n",
      "Fields:\n",
      "  image_series: {\n",
      "    video_0 <class 'pynwb.image.ImageSeries'>\n",
      "  }\n",
      "\n"
     ]
    },
    {
     "ename": "TypeError",
     "evalue": "write_nwb_training() got an unexpected keyword argument 'embed'",
     "output_type": "error",
     "traceback": [
      "\u001b[0;31m---------------------------------------------------------------------------\u001b[0m",
      "\u001b[0;31mTypeError\u001b[0m                                 Traceback (most recent call last)",
      "Cell \u001b[0;32mIn[66], line 5\u001b[0m\n\u001b[1;32m      3\u001b[0m \u001b[38;5;28mprint\u001b[39m(pose\u001b[38;5;241m.\u001b[39mtraining_frames)\n\u001b[1;32m      4\u001b[0m \u001b[38;5;28mprint\u001b[39m(pose\u001b[38;5;241m.\u001b[39msource_videos)\n\u001b[0;32m----> 5\u001b[0m \u001b[43mlabels_original\u001b[49m\u001b[38;5;241;43m.\u001b[39;49m\u001b[43msave\u001b[49m\u001b[43m(\u001b[49m\u001b[38;5;124;43m\"\u001b[39;49m\u001b[38;5;124;43mminimal_instance.pkg.nwb\u001b[39;49m\u001b[38;5;124;43m\"\u001b[39;49m\u001b[43m,\u001b[49m\u001b[43m \u001b[49m\u001b[38;5;28;43mformat\u001b[39;49m\u001b[38;5;241;43m=\u001b[39;49m\u001b[38;5;124;43m\"\u001b[39;49m\u001b[38;5;124;43mnwb_training\u001b[39;49m\u001b[38;5;124;43m\"\u001b[39;49m\u001b[43m)\u001b[49m\n\u001b[1;32m      7\u001b[0m labels_loaded \u001b[38;5;241m=\u001b[39m sio\u001b[38;5;241m.\u001b[39mload_nwb(\u001b[38;5;124m\"\u001b[39m\u001b[38;5;124mminimal_instance.pkg.nwb\u001b[39m\u001b[38;5;124m\"\u001b[39m)\n\u001b[1;32m      8\u001b[0m \u001b[38;5;28;01massert\u001b[39;00m labels_original\u001b[38;5;241m.\u001b[39mlabeled_frames \u001b[38;5;241m==\u001b[39m labels_loaded\u001b[38;5;241m.\u001b[39mlabeled_frames\n",
      "File \u001b[0;32m~/salk/io_fork/sleap_io/model/labels.py:372\u001b[0m, in \u001b[0;36mLabels.save\u001b[0;34m(self, filename, format, embed, **kwargs)\u001b[0m\n\u001b[1;32m    348\u001b[0m \u001b[38;5;250m\u001b[39m\u001b[38;5;124;03m\"\"\"Save labels to file in specified format.\u001b[39;00m\n\u001b[1;32m    349\u001b[0m \n\u001b[1;32m    350\u001b[0m \u001b[38;5;124;03mArgs:\u001b[39;00m\n\u001b[0;32m   (...)\u001b[0m\n\u001b[1;32m    368\u001b[0m \u001b[38;5;124;03m        This argument is only valid for the SLP backend.\u001b[39;00m\n\u001b[1;32m    369\u001b[0m \u001b[38;5;124;03m\"\"\"\u001b[39;00m\n\u001b[1;32m    370\u001b[0m \u001b[38;5;28;01mfrom\u001b[39;00m \u001b[38;5;21;01msleap_io\u001b[39;00m \u001b[38;5;28;01mimport\u001b[39;00m save_file\n\u001b[0;32m--> 372\u001b[0m \u001b[43msave_file\u001b[49m\u001b[43m(\u001b[49m\u001b[38;5;28;43mself\u001b[39;49m\u001b[43m,\u001b[49m\u001b[43m \u001b[49m\u001b[43mfilename\u001b[49m\u001b[43m,\u001b[49m\u001b[43m \u001b[49m\u001b[38;5;28;43mformat\u001b[39;49m\u001b[38;5;241;43m=\u001b[39;49m\u001b[38;5;28;43mformat\u001b[39;49m\u001b[43m,\u001b[49m\u001b[43m \u001b[49m\u001b[43membed\u001b[49m\u001b[38;5;241;43m=\u001b[39;49m\u001b[43membed\u001b[49m\u001b[43m,\u001b[49m\u001b[43m \u001b[49m\u001b[38;5;241;43m*\u001b[39;49m\u001b[38;5;241;43m*\u001b[39;49m\u001b[43mkwargs\u001b[49m\u001b[43m)\u001b[49m\n",
      "File \u001b[0;32m~/salk/io_fork/sleap_io/io/main.py:238\u001b[0m, in \u001b[0;36msave_file\u001b[0;34m(labels, filename, format, **kwargs)\u001b[0m\n\u001b[1;32m    236\u001b[0m     save_slp(labels, filename, \u001b[38;5;241m*\u001b[39m\u001b[38;5;241m*\u001b[39mkwargs)\n\u001b[1;32m    237\u001b[0m \u001b[38;5;28;01melif\u001b[39;00m \u001b[38;5;28mformat\u001b[39m \u001b[38;5;241m==\u001b[39m \u001b[38;5;124m\"\u001b[39m\u001b[38;5;124mnwb\u001b[39m\u001b[38;5;124m\"\u001b[39m \u001b[38;5;129;01mor\u001b[39;00m \u001b[38;5;28mformat\u001b[39m \u001b[38;5;241m==\u001b[39m \u001b[38;5;124m\"\u001b[39m\u001b[38;5;124mnwb_training\u001b[39m\u001b[38;5;124m\"\u001b[39m:\n\u001b[0;32m--> 238\u001b[0m     \u001b[43msave_nwb\u001b[49m\u001b[43m(\u001b[49m\u001b[43mlabels\u001b[49m\u001b[43m,\u001b[49m\u001b[43m \u001b[49m\u001b[43mfilename\u001b[49m\u001b[43m,\u001b[49m\u001b[43m \u001b[49m\u001b[38;5;28;43mformat\u001b[39;49m\u001b[43m,\u001b[49m\u001b[43m \u001b[49m\u001b[38;5;241;43m*\u001b[39;49m\u001b[38;5;241;43m*\u001b[39;49m\u001b[43mkwargs\u001b[49m\u001b[43m)\u001b[49m\n\u001b[1;32m    239\u001b[0m \u001b[38;5;28;01melif\u001b[39;00m \u001b[38;5;28mformat\u001b[39m \u001b[38;5;241m==\u001b[39m \u001b[38;5;124m\"\u001b[39m\u001b[38;5;124mlabelstudio\u001b[39m\u001b[38;5;124m\"\u001b[39m:\n\u001b[1;32m    240\u001b[0m     save_labelstudio(labels, filename, \u001b[38;5;241m*\u001b[39m\u001b[38;5;241m*\u001b[39mkwargs)\n",
      "File \u001b[0;32m~/salk/io_fork/sleap_io/io/main.py:89\u001b[0m, in \u001b[0;36msave_nwb\u001b[0;34m(labels, filename, format, append, **kwargs)\u001b[0m\n\u001b[1;32m     87\u001b[0m     nwb\u001b[38;5;241m.\u001b[39mappend_nwb_training(pose_training, filename, \u001b[38;5;241m*\u001b[39m\u001b[38;5;241m*\u001b[39mkwargs)\n\u001b[1;32m     88\u001b[0m \u001b[38;5;28;01melse\u001b[39;00m:\n\u001b[0;32m---> 89\u001b[0m     \u001b[43mnwb\u001b[49m\u001b[38;5;241;43m.\u001b[39;49m\u001b[43mwrite_nwb_training\u001b[49m\u001b[43m(\u001b[49m\u001b[43mpose_training\u001b[49m\u001b[43m,\u001b[49m\u001b[43m \u001b[49m\u001b[43mfilename\u001b[49m\u001b[43m,\u001b[49m\u001b[43m \u001b[49m\u001b[38;5;241;43m*\u001b[39;49m\u001b[38;5;241;43m*\u001b[39;49m\u001b[43mkwargs\u001b[49m\u001b[43m)\u001b[49m\n",
      "\u001b[0;31mTypeError\u001b[0m: write_nwb_training() got an unexpected keyword argument 'embed'"
     ]
    }
   ],
   "source": [
    "labels_original = sio.load_slp(\"tests/data/slp/minimal_instance.pkg.slp\")\n",
    "pose = labels_to_pose_training(labels_original)\n",
    "print(pose.training_frames)\n",
    "print(pose.source_videos)\n",
    "labels_original.save(\"minimal_instance.pkg.nwb\", format=\"nwb_training\")\n",
    "\n",
    "labels_loaded = sio.load_nwb(\"minimal_instance.pkg.nwb\")\n",
    "assert labels_original.labeled_frames == labels_loaded.labeled_frames\n",
    "assert labels_original.videos == labels_loaded.videos\n",
    "assert labels_original.skeletons == labels_loaded.skeletons\n",
    "assert labels_original.tracks == labels_loaded.tracks\n",
    "assert labels_original.suggestions == labels_loaded.suggestions\n",
    "assert labels_original.provenance == labels_loaded.provenance"
   ]
  },
  {
   "cell_type": "code",
   "execution_count": null,
   "metadata": {},
   "outputs": [
    {
     "name": "stdout",
     "output_type": "stream",
     "text": [
      "minimal_instance.pkg.nwb_images/Video(filename=\"tests/data/slp/minimal_instance.pkg.slp\", shape=(1, 384, 384, 1), dataset=video0/video, backend=HDF5Video).0.png\n"
     ]
    },
    {
     "ename": "FileNotFoundError",
     "evalue": "The directory '/Users/keya/salk/io_fork/minimal_instance.pkg.nwb_images/Video(filename=\"tests/data/slp/minimal_instance.pkg.slp\", shape=(1, 384, 384, 1), dataset=video0' does not exist",
     "output_type": "error",
     "traceback": [
      "\u001b[0;31m---------------------------------------------------------------------------\u001b[0m",
      "\u001b[0;31mFileNotFoundError\u001b[0m                         Traceback (most recent call last)",
      "Cell \u001b[0;32mIn[3], line 10\u001b[0m\n\u001b[1;32m      8\u001b[0m     img_path \u001b[38;5;241m=\u001b[39m save_path \u001b[38;5;241m/\u001b[39m \u001b[38;5;124mf\u001b[39m\u001b[38;5;124m\"\u001b[39m\u001b[38;5;132;01m{\u001b[39;00mlabels_original\u001b[38;5;241m.\u001b[39mlabeled_frames[i]\u001b[38;5;241m.\u001b[39mvideo\u001b[38;5;132;01m}\u001b[39;00m\u001b[38;5;124m.\u001b[39m\u001b[38;5;132;01m{\u001b[39;00mlf\u001b[38;5;241m.\u001b[39mframe_idx\u001b[38;5;132;01m}\u001b[39;00m\u001b[38;5;124m.png\u001b[39m\u001b[38;5;124m\"\u001b[39m\n\u001b[1;32m      9\u001b[0m     \u001b[38;5;28mprint\u001b[39m(img_path)\n\u001b[0;32m---> 10\u001b[0m     \u001b[43miio\u001b[49m\u001b[38;5;241;43m.\u001b[39;49m\u001b[43mimwrite\u001b[49m\u001b[43m(\u001b[49m\u001b[43mimg_path\u001b[49m\u001b[43m,\u001b[49m\u001b[43m \u001b[49m\u001b[43mlf\u001b[49m\u001b[38;5;241;43m.\u001b[39;49m\u001b[43mimage\u001b[49m\u001b[43m)\u001b[49m\n\u001b[1;32m     11\u001b[0m     img_paths\u001b[38;5;241m.\u001b[39mappend(img_path)\n\u001b[1;32m     12\u001b[0m \u001b[38;5;28mprint\u001b[39m(img_paths)\n",
      "File \u001b[0;32m~/mambaforge3/envs/io_dev/lib/python3.12/site-packages/imageio/v3.py:139\u001b[0m, in \u001b[0;36mimwrite\u001b[0;34m(uri, image, plugin, extension, format_hint, **kwargs)\u001b[0m\n\u001b[1;32m    104\u001b[0m \u001b[38;5;28;01mdef\u001b[39;00m \u001b[38;5;21mimwrite\u001b[39m(uri, image, \u001b[38;5;241m*\u001b[39m, plugin\u001b[38;5;241m=\u001b[39m\u001b[38;5;28;01mNone\u001b[39;00m, extension\u001b[38;5;241m=\u001b[39m\u001b[38;5;28;01mNone\u001b[39;00m, format_hint\u001b[38;5;241m=\u001b[39m\u001b[38;5;28;01mNone\u001b[39;00m, \u001b[38;5;241m*\u001b[39m\u001b[38;5;241m*\u001b[39mkwargs):\n\u001b[1;32m    105\u001b[0m \u001b[38;5;250m    \u001b[39m\u001b[38;5;124;03m\"\"\"Write an ndimage to the given URI.\u001b[39;00m\n\u001b[1;32m    106\u001b[0m \n\u001b[1;32m    107\u001b[0m \u001b[38;5;124;03m    The exact behavior depends on the file type and plugin used. To learn about\u001b[39;00m\n\u001b[0;32m   (...)\u001b[0m\n\u001b[1;32m    136\u001b[0m \n\u001b[1;32m    137\u001b[0m \u001b[38;5;124;03m    \"\"\"\u001b[39;00m\n\u001b[0;32m--> 139\u001b[0m     \u001b[38;5;28;01mwith\u001b[39;00m \u001b[43mimopen\u001b[49m\u001b[43m(\u001b[49m\n\u001b[1;32m    140\u001b[0m \u001b[43m        \u001b[49m\u001b[43muri\u001b[49m\u001b[43m,\u001b[49m\n\u001b[1;32m    141\u001b[0m \u001b[43m        \u001b[49m\u001b[38;5;124;43m\"\u001b[39;49m\u001b[38;5;124;43mw\u001b[39;49m\u001b[38;5;124;43m\"\u001b[39;49m\u001b[43m,\u001b[49m\n\u001b[1;32m    142\u001b[0m \u001b[43m        \u001b[49m\u001b[43mlegacy_mode\u001b[49m\u001b[38;5;241;43m=\u001b[39;49m\u001b[38;5;28;43;01mFalse\u001b[39;49;00m\u001b[43m,\u001b[49m\n\u001b[1;32m    143\u001b[0m \u001b[43m        \u001b[49m\u001b[43mplugin\u001b[49m\u001b[38;5;241;43m=\u001b[39;49m\u001b[43mplugin\u001b[49m\u001b[43m,\u001b[49m\n\u001b[1;32m    144\u001b[0m \u001b[43m        \u001b[49m\u001b[43mformat_hint\u001b[49m\u001b[38;5;241;43m=\u001b[39;49m\u001b[43mformat_hint\u001b[49m\u001b[43m,\u001b[49m\n\u001b[1;32m    145\u001b[0m \u001b[43m        \u001b[49m\u001b[43mextension\u001b[49m\u001b[38;5;241;43m=\u001b[39;49m\u001b[43mextension\u001b[49m\u001b[43m,\u001b[49m\n\u001b[1;32m    146\u001b[0m \u001b[43m    \u001b[49m\u001b[43m)\u001b[49m \u001b[38;5;28;01mas\u001b[39;00m img_file:\n\u001b[1;32m    147\u001b[0m         encoded \u001b[38;5;241m=\u001b[39m img_file\u001b[38;5;241m.\u001b[39mwrite(image, \u001b[38;5;241m*\u001b[39m\u001b[38;5;241m*\u001b[39mkwargs)\n\u001b[1;32m    149\u001b[0m     \u001b[38;5;28;01mreturn\u001b[39;00m encoded\n",
      "File \u001b[0;32m~/mambaforge3/envs/io_dev/lib/python3.12/site-packages/imageio/core/imopen.py:113\u001b[0m, in \u001b[0;36mimopen\u001b[0;34m(uri, io_mode, plugin, extension, format_hint, legacy_mode, **kwargs)\u001b[0m\n\u001b[1;32m    111\u001b[0m     request\u001b[38;5;241m.\u001b[39mformat_hint \u001b[38;5;241m=\u001b[39m format_hint\n\u001b[1;32m    112\u001b[0m \u001b[38;5;28;01melse\u001b[39;00m:\n\u001b[0;32m--> 113\u001b[0m     request \u001b[38;5;241m=\u001b[39m \u001b[43mRequest\u001b[49m\u001b[43m(\u001b[49m\u001b[43muri\u001b[49m\u001b[43m,\u001b[49m\u001b[43m \u001b[49m\u001b[43mio_mode\u001b[49m\u001b[43m,\u001b[49m\u001b[43m \u001b[49m\u001b[43mformat_hint\u001b[49m\u001b[38;5;241;43m=\u001b[39;49m\u001b[43mformat_hint\u001b[49m\u001b[43m,\u001b[49m\u001b[43m \u001b[49m\u001b[43mextension\u001b[49m\u001b[38;5;241;43m=\u001b[39;49m\u001b[43mextension\u001b[49m\u001b[43m)\u001b[49m\n\u001b[1;32m    115\u001b[0m source \u001b[38;5;241m=\u001b[39m \u001b[38;5;124m\"\u001b[39m\u001b[38;5;124m<bytes>\u001b[39m\u001b[38;5;124m\"\u001b[39m \u001b[38;5;28;01mif\u001b[39;00m \u001b[38;5;28misinstance\u001b[39m(uri, \u001b[38;5;28mbytes\u001b[39m) \u001b[38;5;28;01melse\u001b[39;00m uri\n\u001b[1;32m    117\u001b[0m \u001b[38;5;66;03m# fast-path based on plugin\u001b[39;00m\n\u001b[1;32m    118\u001b[0m \u001b[38;5;66;03m# (except in legacy mode)\u001b[39;00m\n",
      "File \u001b[0;32m~/mambaforge3/envs/io_dev/lib/python3.12/site-packages/imageio/core/request.py:247\u001b[0m, in \u001b[0;36mRequest.__init__\u001b[0;34m(self, uri, mode, extension, format_hint, **kwargs)\u001b[0m\n\u001b[1;32m    244\u001b[0m     \u001b[38;5;28;01mraise\u001b[39;00m \u001b[38;5;167;01mValueError\u001b[39;00m(\u001b[38;5;124mf\u001b[39m\u001b[38;5;124m\"\u001b[39m\u001b[38;5;124mInvalid Request.Mode: \u001b[39m\u001b[38;5;132;01m{\u001b[39;00mmode\u001b[38;5;132;01m}\u001b[39;00m\u001b[38;5;124m\"\u001b[39m)\n\u001b[1;32m    246\u001b[0m \u001b[38;5;66;03m# Parse what was given\u001b[39;00m\n\u001b[0;32m--> 247\u001b[0m \u001b[38;5;28;43mself\u001b[39;49m\u001b[38;5;241;43m.\u001b[39;49m\u001b[43m_parse_uri\u001b[49m\u001b[43m(\u001b[49m\u001b[43muri\u001b[49m\u001b[43m)\u001b[49m\n\u001b[1;32m    249\u001b[0m \u001b[38;5;66;03m# Set extension\u001b[39;00m\n\u001b[1;32m    250\u001b[0m \u001b[38;5;28;01mif\u001b[39;00m extension \u001b[38;5;129;01mis\u001b[39;00m \u001b[38;5;129;01mnot\u001b[39;00m \u001b[38;5;28;01mNone\u001b[39;00m:\n",
      "File \u001b[0;32m~/mambaforge3/envs/io_dev/lib/python3.12/site-packages/imageio/core/request.py:412\u001b[0m, in \u001b[0;36mRequest._parse_uri\u001b[0;34m(self, uri)\u001b[0m\n\u001b[1;32m    410\u001b[0m dn \u001b[38;5;241m=\u001b[39m os\u001b[38;5;241m.\u001b[39mpath\u001b[38;5;241m.\u001b[39mdirname(fn)\n\u001b[1;32m    411\u001b[0m \u001b[38;5;28;01mif\u001b[39;00m \u001b[38;5;129;01mnot\u001b[39;00m os\u001b[38;5;241m.\u001b[39mpath\u001b[38;5;241m.\u001b[39mexists(dn):\n\u001b[0;32m--> 412\u001b[0m     \u001b[38;5;28;01mraise\u001b[39;00m \u001b[38;5;167;01mFileNotFoundError\u001b[39;00m(\u001b[38;5;124m\"\u001b[39m\u001b[38;5;124mThe directory \u001b[39m\u001b[38;5;132;01m%r\u001b[39;00m\u001b[38;5;124m does not exist\u001b[39m\u001b[38;5;124m\"\u001b[39m \u001b[38;5;241m%\u001b[39m dn)\n",
      "\u001b[0;31mFileNotFoundError\u001b[0m: The directory '/Users/keya/salk/io_fork/minimal_instance.pkg.nwb_images/Video(filename=\"tests/data/slp/minimal_instance.pkg.slp\", shape=(1, 384, 384, 1), dataset=video0' does not exist"
     ]
    }
   ],
   "source": [
    "import imageio.v3 as iio\n",
    "from pathlib import Path\n",
    "import sleap_io as sio\n",
    "save_path = Path(\"minimal_instance.pkg.nwb_images\")\n",
    "img_paths = []\n",
    "labels_original = sio.load_slp(\"tests/data/slp/minimal_instance.pkg.slp\")\n",
    "for i, lf in enumerate(labels_original):\n",
    "    img_path = save_path / f\"{labels_original.labeled_frames[i].video}.{lf.frame_idx}.png\"\n",
    "    print(img_path)\n",
    "    iio.imwrite(img_path, lf.image)\n",
    "    img_paths.append(img_path)\n",
    "print(img_paths)"
   ]
  }
 ],
 "metadata": {
  "kernelspec": {
   "display_name": "io_dev",
   "language": "python",
   "name": "python3"
  },
  "language_info": {
   "codemirror_mode": {
    "name": "ipython",
    "version": 3
   },
   "file_extension": ".py",
   "mimetype": "text/x-python",
   "name": "python",
   "nbconvert_exporter": "python",
   "pygments_lexer": "ipython3",
   "version": "3.12.4"
  }
 },
 "nbformat": 4,
 "nbformat_minor": 2
}
