{
 "cells": [
  {
   "cell_type": "code",
   "execution_count": 1,
   "metadata": {},
   "outputs": [],
   "source": [
    "import numpy as np\n",
    "import pygfx as gfx\n",
    "import sleap_io as sio\n",
    "from wgpu.gui.auto import WgpuCanvas"
   ]
  },
  {
   "cell_type": "code",
   "execution_count": 2,
   "metadata": {},
   "outputs": [
    {
     "name": "stderr",
     "output_type": "stream",
     "text": [
      "No accelerated colorspace conversion found from yuv420p to bgr24.\n"
     ]
    }
   ],
   "source": [
    "labels = sio.load_slp(\"tests/data/slp/centered_pair_predictions.slp\")\n",
    "frame_index = input(f\"Enter the index of the frame you want to visualize (range: {0} - {len(labels)-1}): \")\n",
    "instances = labels.labeled_frames[int(frame_index)].instances\n",
    "video = labels.videos[0]\n",
    "image_height, image_width = video.shape[1], video.shape[2]"
   ]
  },
  {
   "cell_type": "code",
   "execution_count": 28,
   "metadata": {},
   "outputs": [
    {
     "data": {
      "application/vnd.jupyter.widget-view+json": {
       "model_id": "0c6828da64454ff29653587ced5de6f1",
       "version_major": 2,
       "version_minor": 0
      },
      "text/plain": [
       "RFBOutputContext()"
      ]
     },
     "metadata": {},
     "output_type": "display_data"
    },
    {
     "data": {
      "application/vnd.jupyter.widget-view+json": {
       "model_id": "ba8ac21a46ea477eba25cc06129bccc7",
       "version_major": 2,
       "version_minor": 0
      },
      "text/html": [
       "<div class='snapshot-ba8ac21a46ea477eba25cc06129bccc7' style='position:relative;'><img src='data:image/png;base64,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' style='width:500.0px;height:300.0px;' /><div style='position: absolute; top:0; left:0; padding:1px 3px; background: #777; color:#fff; font-size: 90%; font-family:sans-serif; '>snapshot</div></div>"
      ],
      "text/plain": [
       "JupyterWgpuCanvas()"
      ]
     },
     "execution_count": 3,
     "metadata": {},
     "output_type": "execute_result"
    }
   ],
   "source": [
    "canvas = WgpuCanvas()\n",
    "renderer = gfx.WgpuRenderer(canvas)\n",
    "scene = gfx.Scene()\n",
    "colors = [(255, 0, 0, 1.0), (0, 255, 0, 1.0), (0, 0, 255, 1.0), (255, 255, 0, 1.0), (0, 255, 255, 1.0), (255, 0, 255, 1.0)]\n",
    "for i, instance in enumerate(instances):\n",
    "    instance_np = instance.numpy()\n",
    "    instance_np -= 100\n",
    "    positions = np.hstack((instance_np, np.ones((instance_np.shape[0], 1)))).astype(np.float32)\n",
    "    points = gfx.Points(\n",
    "        gfx.Geometry(positions=positions),\n",
    "        gfx.PointsMaterial(size=4, color=(255, 255, 255, 1.0)),\n",
    "    )\n",
    "    scene.add(points)\n",
    "    for index1, index2 in instance.skeleton.edge_inds:\n",
    "        edge = instance_np[[index1, index2]]\n",
    "        edge = np.hstack((edge, np.ones((edge.shape[0], 1)))).astype(np.float32)\n",
    "        scene.add(gfx.Line(\n",
    "            gfx.Geometry(positions=edge),\n",
    "            gfx.LineMaterial(color=colors[i], thickness=1.0),\n",
    "        ))\n",
    "\n",
    "scene.add(gfx.Background(material=gfx.BackgroundMaterial(\"#000000\")))\n",
    "\n",
    "camera = gfx.OrthographicCamera(image_width, image_height)\n",
    "canvas.request_draw(lambda: renderer.render(scene, camera))\n",
    "canvas"
   ]
  }
 ],
 "metadata": {
  "kernelspec": {
   "display_name": "sleap-io",
   "language": "python",
   "name": "python3"
  },
  "language_info": {
   "codemirror_mode": {
    "name": "ipython",
    "version": 3
   },
   "file_extension": ".py",
   "mimetype": "text/x-python",
   "name": "python",
   "nbconvert_exporter": "python",
   "pygments_lexer": "ipython3",
   "version": "3.12.4"
  }
 },
 "nbformat": 4,
 "nbformat_minor": 2
}
