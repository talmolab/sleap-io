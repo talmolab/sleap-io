{
 "cells": [
  {
   "cell_type": "code",
   "execution_count": 1,
   "metadata": {},
   "outputs": [],
   "source": [
    "import numpy as np\n",
    "import pygfx as gfx\n",
    "import sleap_io as sio\n",
    "from wgpu.gui.auto import WgpuCanvas"
   ]
  },
  {
   "cell_type": "code",
   "execution_count": 2,
   "metadata": {},
   "outputs": [
    {
     "name": "stderr",
     "output_type": "stream",
     "text": [
      "No accelerated colorspace conversion found from yuv420p to bgr24.\n"
     ]
    }
   ],
   "source": [
    "labels = sio.load_slp(\"tests/data/slp/centered_pair_predictions.slp\")\n",
    "frame_index = input(f\"Enter the index of the frame you want to visualize (range: {0} - {len(labels)-1}): \")\n",
    "instances = labels.labeled_frames[int(frame_index)].instances\n",
    "video = labels.videos[0]\n",
    "image_height, image_width = video.shape[1], video.shape[2]"
   ]
  },
  {
   "cell_type": "code",
   "execution_count": 3,
   "metadata": {},
   "outputs": [
    {
     "data": {
      "application/vnd.jupyter.widget-view+json": {
       "model_id": "d311ea15e87c4576954afd3955594153",
       "version_major": 2,
       "version_minor": 0
      },
      "text/plain": [
       "RFBOutputContext()"
      ]
     },
     "metadata": {},
     "output_type": "display_data"
    },
    {
     "data": {
      "application/vnd.jupyter.widget-view+json": {
       "model_id": "fbe0c2e547b6439797ebf2185a2b4fca",
       "version_major": 2,
       "version_minor": 0
      },
      "text/html": [
       "<div class='snapshot-fbe0c2e547b6439797ebf2185a2b4fca' style='position:relative;'><img src='data:image/png;base64,iVBORw0KGgoAAAANSUhEUgAAAfQAAAEsCAYAAAA1u0HIAAAqIklEQVR42u3dC3SV5ZXw8fckgCTIgDo1ZCBAEFBqBWsBqzOdzlSnVq0KgmK7pI5CVEhFp6Noq7hmptpvjajL76vhrgusWG2XFy52hEBtK2pVIEIHFFhVMEKCuUMSyHV/z37e84ZDCAg8CU8u/5z1WwnJyck+J1nsdz+X/QRBEAgAAOjwvAcAAADceQ8AAAC48x4AAABw5z0AAADgznsAAADAnfcAAACAO+8BAAAAd94DAAAA7rwHAAAA3HkPAAAAuPMeAAAAcOc9AAAA4M57AAAAwJ33AAAAgDvvAQAAAHfeAwAAAO68BwAAANx5DwAAALjzHgAAAHDnPQAAAODOewAAAMCd9wAAAIA77wEAAAB33gMAAADuvAcAdHlJSUmSnp4umZmZkpqa6j0eAB2S9wCALq1v374yYcIEWbBggSxbtkxuv/12+znfcQHocLwHAHRZWpmPGzdO1q9fL5VVlXKw9qBs2rTJJvWUlBTv8QHoULwHAHRZycnJMn36dCkpKZEacztobjW1NfLa8tdkcOZg7/EB6FC8BwB0WVqhT506Vfbs2SOVjZU2qe9o2CGz350taZPSJOjjP0YAHYb3AIAuKxaLyahRo2TxksU2qReUFsgz5c/IsH3DJJYXk2Caud8AI8l/rADaPe8BAF2aVuma1LVSn549Xa566CrpuaanBEXm6x8Zc41LjBT/sQJo17wHACCRJm5N4JrINaFrYs817gio1gEci/cAADQXC8LkrUPueUa58XEQJvnRAUkdQEu8BwDgaHRR3ATjeaMgCKv1pfHPnREO10e8xwrAN+8BADgWrcZHGQ8Ym4KwWjdVe+8Hesu1P7zWbnvTvew0owG6PO8BADgefY3bAzufnlqcKld+caX88ZM/SnFxseTl5dGMBoD3AAAcr5RAki5JkmuWXiOrq1fL/sb9om+1tbWyfPly2wvee4wAfPEeAIATkJScJFPvmCp7CvZIo7np28GGg/Liuhcl49sZEqT6jxGAF94DAHACtBnN6NGj5Y033pDKykqpr6+XHQd2yJSSKdIjtwfb24Cuy3sAAE6QHrGqC+H0hLZVq1fJEy88IZkfZh6+ve0UNKPROXsd5lfM3wPeeQ8AwEnQSj0tLU3OOeccSRuUJrEJsUPb24qDQ81oMoI2qdb79OljF+Lp3P2KFSvkvvvukxEjRti4fL82QBflPQAArSFxe1tLzWiSW/fn6QiBrq7XI19r6mokPz/fJvVevXr5fy2Arsl7AABa05c0o7Fd6Frh50THvlaaW5m51dbVyrJly2TIkCH+XwOga/IeAIDWptX4hcGhav2L+Pv7g7CKb4WkPjVrquws3ClV5qbHvuoCPZ3TT09P9//8ga7JewAA2oImba3ItTLXCl0rda3YTeXe54Y+Mu76cTJlyhR70tsJt441j33+zefLzE9myrLqZfJZ4Wd21b0Ow9OGFvDGewAA2pImdp1D17n0jwPpVt5NbvjoBln/0Xp7BvuSJUtkzJgxJ5aI+xsLA+lV0Uu+9ea35JZpt9itdKx0B7zyHgCAtqZJ3STh2B0x+Yc3/0FeqX5FqhqrpLGxUcrKymTOnDnHNVSuSV/vl3FThvTY2kOCQvP5mUavdvAcAXgPAMAJiJLqsGHD7AI03ZN+3N/bK0lun3G7FJYUNnWZq2+ol1W5q2TosKHH/F6tvnVIff6C+bLknSVy3b7rZPDawZI0JqlV5uRdnhcAy3sAAI6TJj0d2taKevXq1XYPuO4FP96T1vT7o+1m2v+9rqFOttdvl9nrZku/v+93zP3qUXe6/ZX7paKhQt4/8L48sfQJ6ZfRz/vzAmB5DwDAcdIKVpNeaWmpNDQ02KS8MW+jXHfjdeGw93E0kElsCPP6mtfl3m33yqCiQRJ7LibBmKM/hi6g0zl3XdFebm56MbA6d7WtqNvieelFR2ddZBeNRuhIhO7bpxkPWon3AAAcp6FDh8qqVats/3Z902HzbdXb5IY3b5DgQXOf8cawwCb31F6pNmFowtXkkZgYo5atQ4YPkT7T+oTnrOvWtueCoyb18ePHy5YtW6SusU4Omlt0wtvJ7DtvSmCxMNYh3x4iy99aLrUNtRK96bGwute9syV0fT66CFEvYHTf/syZM09upwFwJO8BADhOiZWsLmirbayVNVVrZOy+sRKUmPtsNVaaZP5Qqkx9aKosX7FccnNz7ffokHaLlaA2orkzCJO6bm07SlLv37+/5MzNkc1lm2VD3QZ5f/P7ttJPnOvWx9fEpFr6Wfr5AQMGyBVXXCEXfeMiSb0o1S6q672mt9xVdpdsb9huL1Lq6uo6bYWuyVt3FujvUJ/n3r17JScnh/37aA3eAwBwnKK55rlz59pq+S9b/iKPPfOYDFo4SIK3zH32GBWBDCsdJivKV9iWrDqErckjZ06OpKWntbyATZO6Np3RVeulxpIgbEyTcF9N0BdceoF8f9335fLSy+XKWVdKnzP6HBabJqupU6dKVlaWjdMme70wSDbf3y3WFPvGjRvlf9b8j1z/6vXSraCbjXng1oEy9+25snvPbpvM77zzzk45hx5NXegFmb7p70fXDbTG1AW6PO8BADgBmjgzMjJs9aoGZAyQpHRTxY4N7GEssQUxufKdK+XD6g8PPy/9nRclY1pGuCe9pVPYtIOcJnJN6JrYtcvcGc3uc675+WtM9V0Uk1h27LD+8CNHjpTFixfbZFVQUGAX0F1z8zWSNNXElh3IWXedJbOXzpbi0mKbxCrrKuWlqpdk9Mej7Z722A0xGfXN8IJAn1dnTOZKpy62bt0qjeY1EB1lcZi6AJrxHgCA1mIqak3ut06/VfL35NsqUG+7GnbJ9Mrp0mNPj/AUtmi+XU9iSw6/r6kBjSZ1HXrXIXgdik9M6vo9W+L044RheU3EiZVnSVWJzNg4Q7rv7m4f72+K/0YerXxUKhorRG+6uG5P2R6ZOmtq2KimlXrMt3c6daGjFHs//VTq3n9ftq1bJ7dnZbFND63BewAAWpEOjevQtyYNrQQ1yS5bt0y+u/a74Rx7UZwm5UVBeMSqVvfpQZjco6Sui+SaJ/Xp8e9dY5wX/1y8xewts26RXeW7mkYFKuor5JHCR6Tvur72IiI1N1XuX3e/FJYVyoGGA/aUtmie3Pdrdsp/PyNHymOTJ0vpP/2TrP3Od2R4nz7e40Kn4D0AAK1Mk4ZWgjq8q3O2o8eOlpRzU8KqWqtzrdJ1vr0o/l7n3xcYNwThKnlN8C0l9ez49+TG75dwZOvXNn1Nfl31a6mqq7KLvT7L/0xmPDJDTht7mgRDTUxDY/L1S79u5/K7+l7zZCPbKDJyjaHtICZ0Ct4DANBGjlhxrglY96trFa6V+cIgrNR1hbyenx5fJW/buX7f+FVw+PD7XcGhhP7V4LBjWpOLkmXiqxPltZWvyYoVK+zZ6CO+OuKw1e50gwuR0NFGvAcAwId4f/emqn1FECZ3Tex6KptW7VqlrzbKTIW9KSa9/19v6V3cW85ee7b0uLtHeCSr3v/jwB7+kjI23N+uOKjl6EjoaCPeAwDgm656H2pMDMKh9z8FYVKvCGxFHiuNSUZthszInyH/Uf0f8uSuJ+Xy7ZdLUlFSWK1rtT8g6DIL21xpQp8ehAl9jXFuO4gJnYL3AAAcQzRMrVVv4hB1m7QP1YScFoRz6Drs/rqxzfysiiS5seFG+bDxQ9v2tbCxUGZXzZYRL4yQ4JKg5W1wOPrv1BhvbIkbH/+c77jQ4XkPAMBR6IKxCRMmyIIFC2ybULuI7Iy+ktQtSUaPGX1E+9CjdWc7arc1TeA6r94tCFe560K3i40sY4bxrPFn8xjbkuTumrulxNz0rdbc3q54W65+6mpJuj7p8O1v7eB16wiGB2F1rlW6VuvJ7SAmdHjeAwDQguhktPXr10tVVZVtQPLh5g/lB7N+IOfcdY7kLM2RktIS+/nCwkJ5eu7TkvbVtKZqOVrpHjWg0Y9two+qcB1i10p8ahAudtOhdp0v17nz3cGh7W3FgXSv7i4/avyRbDS36sZqKW4olln1syS9PD1cSKeL63TY/WhNa3AEnTfX+XNN6DqfTkJHK/AeAIAWJCcn28NJSkpKmg4sKa8vl4dLH5ZLii+RVVWrbC93fdMk++zOZyV9ZXq4wC07kAtmXCBzFs2xLWKVfvy1u7527ORdFP/3uvjXNVH/0lwc5MdkYONA+UH9D+TZ7c/Kc28/J//8xT9LrN5cIDSa+1QH4Zy77k9vqWlNO3g92xsSOtqA9wAAtEAr9Obd10qrS+Un7/5ERq4dKb/f+XtpaGw4lOjLHpbUotRwEVtRTK4qucq2f9X7qLyqPLmy+Er7tRaTtyZ5TfZasWvlrtvSdN/5ZqPWMLfksmRJn5UuGd/MkO73dz/0NU3qB439Qdg6Vqv2qGmNVu2nB8d1tGtXQkJHG/AeAIAWRB3f9GQuTepaqevw+7hJ4yT9gnSZM3dO0+c35G2Qm2bdJMkPJkuw3Hzv2phcuf1K+bA+7Oeut00HNslV714lsdWxI5O3Dr/rMHxUTfcNDp3AdiAIG8xowtZEHbV81QNdbg/CVe5lxt74/XcEYWJXVO1HlWksD8KE/qDRqx3EhA7PewAAjiLxBDMdfte58D59+hz183b+OtN837lJcusDt0p+Yb7UN9Rb2tv91mm3StKwpMOTd3PNk/n/Gu8H4RY2HYLPSLiv/jxd5a771TV5Fwf2gsIewarD+Xvjj6EJv3nV3ivo0ok9JQgTuSZ0TexD2kFM6PC8BwCglUXVvZ6zrW1WlX6sJ6IdbSW83Rp3bqakTEuxyTx2ICapm1Ol/6P9pefWnmHTGd2n3nzoXJPyyCA8fjU6U32t8ZP457SC12RfGRdV7botTlfUpwfehuP1tdAtf7r1T5//qT57PTs5WYpSUyXXGNbOzn33/drgpHgPAEAb0P+Q09LSZOjQoZZ+3FIy18o+2hr3yppXZOK2idLjQA8ZtXWU3Df/PlnyhyWStS9LMl/PDKv7o/1MHYLXyj7qHqfJ/afGFcGhNrNapWtSrwnC6j3qIa8XCrpl7hRW7dFFj275061/ugVwzJgxpyxx6ZbEWePGSendd8u7Dzwgk8aPb1d97UeMGGHb9+pro38bOgpE9792z3sAAE6xaG96861xVQ1V8nLDyzJp+ySZs3yOFOwtkIq6Ctl2cJvMf3W+jLpo1LEb2GhS1/7uS4OwUtdqXIfjLzUGB4c60UXD8ZrYNcF/FBzqIX+Kqna9wNEkrlv+9DCZsrIyu17hwlGjWqdJzzFogyDtKbD5gw+k7vPPpbq0NFwf0U5Onks1iVuTef5nn0ndgQNSuX+/Pd9+9OjRbf7awIn3AACcQloFauKwc+8TxskdD99hjzSN3iobKmXZ75fJ2t+vtQl+i7lVNlbK7j277Zz9l1aw0bnqc4Owx3t03KouoDszOLwTXeJwvK6W18V3zU9+a6OqXUctcnNzpaEh3CmgOwn0jPJHJ0+Wi3UKIghXnsfa4HegXf+08tUeAhKdH19SItnZ2d7+LvR56sK8YcakgQPlzd/8RuoOHhRzxWP+KCqloKDg+H7/8Ml7AABOkagy1HPIi4uL5b2P3pMp26fI27VvS7256ZtW6s8884ysXLnSnlm+z9wqGisk76M8exzrcf2HHh38Mi04fAhe/62L6rT61gV1mvg10ScOx9cFp6Rq16SqR7japKpvJnnVmSRbaKrQt0wVusDc5w5jrNHayV3npHUYW19rTeiN5qJCdyxowjyVfw+x+PPS53exMdNYaWw1fyeVDz8sjWVlIqZCbzRxRvGR0Ns17wEAOBVMMrzo0otkVe4qqa6tlipzK2ssk/8s+0/5xfpfSH5BftPWuIkTJzYl/oKSAnm16lXJfjtbzv7W2SeWVBOH4LX6jp/KFowJwu1rep8o+Tcfjq8N2rRq1/ng6Dnq8y74/HNZ9/jjsu4rX5HdQbj6XN//yWie3Ls7HgOrSVHXLWz44AOp/ugjqfrzn2XpwoV2Tv9U/C1o33itxkfHn5c+v7eMAqPC2GO8PW6cbDV/C/raaDJfsnjxURdVot3wHgCAtqQJWKtikzAvW3qZLC9bLpXx28GGg7LirRVyydWXHLEFTunHWTOy5NI3L5XeRb0lNi92+La14xENwUdb23QIXhO8SfRJZybZjnj2zPakWMvD8VVGffx9K1ft0XPU563Pf6xJqGNNLLcHYZLTZJ6Y3N+Kf/4ec78FOTmSu3q1rfJtj/0TXNCmP3vSddfJu9dfL8X/+I9y1/Dh0q0Nq9/EIfXrg3DLnDa20eStSbwg4flpkv+miW98wmsz6hSsLYAz7wEAaAsJidwOaW8x/6FX9JJp5dNkT9Ueqamvsb3gdWGYVptHfRwdGr8vCJOrVti6Yj31BGNpvrWtPJCeeT3lqllXyfTsQwmjaTi3peH4KLHrkHyzqj3lvBTJHJZpn0dLJ9OdKE1+aUFYkUcVbFNyNzGW3HmnVJmqteHgQak1tMrX5Heiw9GaXNuyW1zikLo+Fx1SXxGEJ7wVxW2Nf25m/D5pQdusG8Ap4T0AAI6aKidNnDocrcPSOjwdT+R2DrvQ3C83JiNnjZScBTmyatUqm8x15fKXJiJNxs/HH0cXuGkzmZOpjOPd5TSO4SXD5ZnyZ6SgtCAc0l2y5Mgq8GjD8ZrUGwKb5JM+SpJxa8fJK7mvyKJFi6zoZLozzjjD/bUNDiV3rdwX9esnny5caOeVZd8+kdpaKf/8c3nstttkjHkde8W/R5+HHXk4RlXbWgk9qdkUwOnmYiZK4okXJFqFlwdhQte5cq3S9ehWbUOb0g7+juHMewAAToImin4muWhCvuKKK2TA4AESGxMLh6N1WFoT+Rfx9yuC8POm6o2lhvvTzznnnKPuTT+CJladC9cFbtoNbl5w4kPvEVN9p307TWavmy07GnbYxXi6wvyYi66an9MeH46PVcXkGw3fkBcaXrCr86urqy1d6LZ582ab1F0q9SNec2Ooec0WzpsnlZWVNu463e734otSeOGFssa8llrpXpySIheb38vkyZPt7+doMZxn7rd20CApzsiQewYPlt4nEav+/vRn6MWZNhBasXy5zLr1VlnQs6cdQtch9ebrASYGJPFOynsAAE7CgAEDZPbs2fKnP/1JNm7cKE++8KRkrs20lbitpDWRa4Wu1a32anc91lSrax0ydxl6jxucOVheW/6a1NTWNG2X08VXOl+rc+rH/P6E4fizFp0lj+18TIobi22/+sQ3Tepaqevwe2u+7ppAdd5d92Xv3LlT1qxaJS9MmCBbu3Wzc9GFxrrvfU/WrVhhv65b4/RCpXlS18e5wTzOR7/+tVQ9/7y8+dvfyu1ZWWEL32b304ucaK1B9Hld2NbNGGYuMObl5EhpaandgldnLjTKn31WKgYOlJIgrMYXBocW9TGk3ql5DwDACdL/2HULmR6LWl8f9mrfcWCHTN03VXps7XEokUdbxFrrZ48KDg29a5V8kkPv0QrzTZs22cSr27eixirHvS0uOZBB5w+Sl1e+fNiFQfSmj6lbw465PuAkaXIeHa/Ax5j3g82/terVxLm1Rw+pzM6Whvx8W8Hr89Ok3rwpi46O2K1rFRUiRq1JxHnmwizxNYi62SUuWBxkEv7wIBwq/7GxyDy/T595Rhqrq8Mnbv4eqs3r+qa574P6d2LukxG03Z56tCveAwBwgvQ/fP0PXveS15pbhbkdaDggL77zomTclNH6iTyij5k49K5b0Aac3GPpqnBN6lFrUd3GdaIrxZtvPdMqVUXb7/Qx22rfdPM5cq2YNXHeNGCAvLt0qTQcOBA2rDEJdteOHfKjm28+LBad8tB1DHpBZoK28/H6+5w2bVrT4+o2scTT9j40z+kFcyGn8+5NC9vMxUTZT38qdV98Yfe0a5W+1VzoTTIJvbd2A2wHf684ZbwHAOAERS1bNZFp8xfdfqaJLGdOjqT1S2vbn69D7w8ErTL0rpWuDom7HP6R2PlOO61F9HM+eqPbhjXmIqWmpkYaTLJu+OtfZecvfiH3nH++DDBJOqqSo9az+nvTBXb15eWSt2FDU4WutDLXZN4Y7yZXX1YmZfffL0U9etiErol9QXKyzDIXLmt+9zt7Xx21efzxx6V///7e/05xynkPAMBJiCpc3Qeti6GiFeunZK9w4qp3HXrXRjGd7ChUTai66FCdyMWGjhpMmTLF/l50n/q6nBwpuvBC+dj8Xuaar48Jwmo+Wsw27+mnZefChVL285/LLFPFR3Po+jOzTEIvzM+3w+h2XUB1tby5eLHM+Lu/s0PpOvSuc+Lae10fS3+uTsVoMmfPeJfkPQAAJ0mTh1aExzpNrU0krnrfE4QV+xn+X4/WEp1AN2/ePOtEpwMSfy+XmuS6pFs3u0BNPReEHdqipP4183tbYy4aSnv3loe6d29aeZ5svnazqeo/efRROfjnP8t+U8nriIwunEvp2dP7a4R2yXsAADqiaNW7Sejd87rLgJsGnFQb1PZGk6xty7phg92aprRFq3Z1SzdVs64s1wVmmpAT93+rlqYOdIhdE7hW5x8H4bz3kuBQpa4Vtm4l0xXy2uAlM/59FxrPm1jKzzpL3pk0Sf7vY4/ZuJqvggcSeA8AQAcVGx2T4WuGy5R9U+S5d5+TZcuXnVQb1PZERzq0KrcHp4THsEn19u3yzo03ygKTrGcEYROYLOOKCy6QOU8/bac8dCW7Tnu01CJVk3p/Y5qxyfjCWGpMMM4w7grCRL/GONfoYzwQhI1g9CLgjtNOk35nnskwOr6M9wAAdFBpA9LkqaVPyScHPrFHreqhLxvzNh7/9rN2KEroWpnbfN7QIFXr1knxN78pRSahRi1TtWHL+muvlbLNm8PFb+Z+ewsL5af33CPn9expO7VpNW+H1uOPrYn6ziBM6lqR58X/rVvetsTp3PiE+NeKg7CyH9AOXhd0CN4DANBBRVuv6urrZK+57Ta3ouIiu+K8oyb0aMh9fcJJY0vnz5e7MzPt0PhqY20Q9kAvvfxyqd+woelM83pz/23/9V+S27evva9W81rJ69Gk2uZVk/yZQZjENWFrUtfkfnf8MfVC4V7z87V61xatuor9kiBg6xmOl/cAAHRQiVuvtPVqYUOh/OGTP8i1P7y2wyZ01fwUNh1G76Hz5UGYmM8Lwkr6sVtukb27doUVulH+8cfy1xtvtAe4RJW8tlxdF4QXAprktRmMVuQ3Gy/G7/MX470ePaR4+HB5YcwYKTQf26H2gPasOCHeAwDQQSX2EV+5ZqU88ukjctney6T3/b3DQ2LaQYwnK7Hdaktz11o1X2gSfU5OTtMc+tynn5bJF1xg58Sjal6TuSb10iCsyDWB69C6VuSrjLeNKnMB8cXkyXLgV7+S/b/5jey/805ZNGKEZLTSnLnGf+aZZ8ppp53m/XVFm/IeAIAOLFrpPeSCIdJ3UV9JqkhyO5GtA2lplXtyfCV8VM3rcLsOu+vJZsuDcOFb1OVN58h1aL3BVOaNy5eLlJeLVFZKxV//Kk/ddptkm8fSBXiR6UHQtP98aAt0hXzzin6EuTDQhYpPPvmk3HvvvZxr3rl5DwBAZ9CaJ7J1QppoNeF+1fiB8XNjsZFvNJ53npgSX6SsTKSmRuq3bZPSiRPt0L0mfd2/Xhp/r3P3Wt2vaYFue3soOHQBkJ2cLP89fbrs+vRT2b9/vxQWFobH1I4ceUJJPWpz+2XHwcI77wEA6Cxa8US2jqalU9F0dbvuWddqXbejaXWtlbqeRa6JWat0m6y/+105oAm9qMj2dS9/7z1Zd801kmseR4fsdftaaVyZUWPUJag3GuIflyfctzQlRcoffFAatPK3O/AaZW9+vjz6r/8qF5vH1hGEyBCjVzzeSLTXPjogJlpP0JHXR3Ry3gMA0Jl00rawmrB79eplm+c0byDT0qlog/v0sceV6sI2nU8/7ECVINz29lb8a/9n+HDZdcstclAPWfnZz2T9v/2bXD1ihB1G18eYGhyquqOh+9w4rcz14iCq4lVVECb4BhNXQ1aWNBYUhCvxa2ul/u235YvLLpN15mvHrO6DQ3vtlyxebFf7K63wdd0ESb1d8h4AgM5Ek7ce3arnsevZ7B2wLWzi3LgmcE3kmrBnzpxpT4fTRYB6bGp3kxS1+r7A3Heu+VzzU9HeMo+jC+J0MVx0NrlW55qUNUlrstbKXY9drTCV/Xumot7Rs6fsMe/vMI+d3EJs0dB9NG8eHaWq8+uahBMX5NmEb+LcamIu+fhjKV23TkrNBUf56acfUeXXBs2q+yAcGVh/9dVSvmmT3Y+vFX5ZWZl9/m1xLC2ceQ8AQGfTPwiPVtW5dJ1T17n15HYQ13HS5K1JS1ev6yEr0++8U+bl5Ng56LoDB6S0qEheeOopucckNU2emjR3/vGPNuklnoq22yRmHTLX6leTuCZeTcLRwjUd0tYtbFphFwaHhuP1AkAfN/0kYtdh/rQgIeGfdpqMv/xymT5xomR/5zuSnZZ2RJXffFhfE7smea3y60eOlMY//EEkem719bb3gPap9/17whG8BwCgs9EqXVe565C7Dr0vNS4MOsTQux6sopW4dn1rOHhQao3ta9fKrhdesMecyu7d0mgSdpWpeotNsrOr1YcPl6qXX5bGmhqb9BrM+3deekmmDxxoq/CWVp8rTdhRH3dNrLoiXpOtVvM6HD+2rZ5jcHiVf6xh/XcnTJBqU91HzXO0Ja6eX0+F3i55DwBAZ5Ri3B6Ei+N0kdzMoEPsTR88eLAdVq/T5Lxrl8j+/VL/wQeyb/ZsW3lLSYk0VlfLzrfekjVjx8qCWEzu/tu/laVPPCF7CwqkxlwAaCWv+9PT+/U75s/SBK6JW6vjmUG4KE2r+K3mMXXYfVpGhvRKTT3lK8sTE74eSqOH00QH1WgHPe2kxxx6u+Q9AACd1QBjoVERdJi96VH3u7LSUmmsqLBV996dO2Xeww9L3oYNUlJcbOfK55n76Ny5Vtnd44vitLJ/yVTm+v5Yq8F1FGCouXB4wHz/bnMfrYT19DUdLv9qnz7y++99Typ//GN58/nn5b5777V7yX1tF9ODdpofJcuJb+2W9wAAdFbN96brvPqAdhDXMUTd73Q1957du2Xrli0yd+5cGf2NbxzRDjYxyUar4AcOHGjfHy0BazLURi8rli2Tbc8+KyVZWTLr/POldzz5jzc/Y+s770jjrl12vj7/s8/kgX//dxlmKvVo2F4vCDTGKVOmyPjx46V///5tmvD1wqRfv34WlXm75j0AAJ2Z7k3Xle4daG964t5rTZgZGRlNjVWO1Q72eOhFQV5entTW1tqh+6r8fFnwy182zUnrBYOulG868KWyUrabr688+2w7t23nuHWP+htv2JGCLeaC4/HHH7dJ3ffrBu+8BwCgsxsVHL43fXTQ7hfIJXZHa83HnT5tmpRoA5n4mx67qqvpdYucfl0vIjRR6xYxTep15uMy8z3F3buHe9hNXGV33SV1xcVN369JfXwHPrIWrcZ7AAA6O503173pW4MOuzfdlc6PjzQeM9V1+apV0rhvn03aNTU1dmuc7nfX++nIgB3uN4m8oKBA1rz+ujx01VXykEnWuvJ8bVqa7Jw/P1xxH+4jk/KtW+W/J02S0eY+nM7WpXkPAEBXEN+bnlScJGM3j5Wps6ba4efOvMAqmuvWqvuuKVNk6YgRUpiaKiX/8i+y/re/lZ07d9pT2nQuPNV8Xr8ncbg/KyvLfv/p5nF0Bby2Zx1pErruidcja7U6rysvl/InnpA9gwbZxXW6Wn50wLGrXZT3AAB0BTGTZP4+RcavGy8v1b4kBWUFdi5ZF4hp4vMeXyvTxKwXLG+88YattEtN8t7/s59JYXq6LOneXa74+tdl8uTJNmFHyTxyrMNQEo+szV29Wla89prMvuEGyUtOtvvZtUENib3L8h4AgC4ic2imvJr7qlQ2VEqjuenCMB1uzszM9B5ba9NFbvPnz7d7t/UENe2jXv6Xv8hjJvnq0HuSw2NrUtftddqtTV+7r5gLoglB2EJWu85FiV17tEeJPbUdvCZoc94DANBFaALSBWAN8Tai0YKwzthGdIhJtNqgplaTua5a37fP7mHXVext8fN0jr5/ELaSbZ7YtWLXQ2IyArcLCbR73gMA0EVETVt0/ld7gut7/bd+3ndsre301FSZNWOGPQpVW8XWHjhgpxh0GL4tf64mbE3cUWLXA2G0N/tH8X/r5zXxJ8WrfMUZ552G9wAAdBGJ8796wIe+1393xoSiSXXhoEGyzyTw7YsW2UYyul5AO6+dip/fPLH/r/FF/P3Cnj3l7muukfl0f+tsvAcAoAuJjibVYfbm54p3Fjr8rYlUq+OCbt3kp/37y7AhQ45Y/HZKXu/g8MSulXrFwIFSunChVJWV2Tn+aHGij/jQqrwHAACdii56e94oir+/MAiTvM+YosSuc+lvXn21VG/YYBfqqWhxYrQXHh2W9wAAoNPQbWL3BeEJalqh32Akt4O4Irrafdptt0nB559Loyb0ffvswj0SeqfgPQAA6DR0i5iuKtcV5jrEndEOYmrOdqNbvNh2o9OV9wy5dxreAwCATqGPcb+xx8gzdG94e9wmltiNLjs72668P1WL9dCmvAcAAB2ezpFrAtdErgldE/sZ7SAudCneAwCADis6B/38wYNl0ZlnSoX5tw6569C774Vw6HK8BwAAHZIm8xEjRsh9990nK19+WT596CHZO3q03G8SPD3U4YH3AACgQ9LKXJP5Z599JnU1NdLwySfyye9+Jz+89lrvsaFL8h4AAHRIus3L9mvX7V/61thoV41nt1G/duBLeA8AADqkw05Us/m80W4F09XjvmNDl+Q9AADokJqfea7JfMmSJXZLmO/Y0CV5DwAAOqyUlBR7wExWVpatzDWZd8b+9OgQvAcAAB2arnbXJK4648lx6DC8BwAAANx5DwAAALjzHgAAAHDnPQAAAODOewAAAMCd9wAAAIA77wEAAAB33gMAAADuvAcAAADceQ8AAAC48x4AAABw5z0AAADgznsAAADAnfcAAACAO+8BAAAAd94DAAAA7rwHAAAA3HkPAAAAuPMeAAAAcOc9AAAA4M57AAAAwJ33AAAAgDvvAQAAAHfeAwAAAO68BwAAANx5DwAAALjzHgAAAHDnPQAAAODOewAAAMCd9wAAAIA77wEAAAB33gMAAADuvAcAAADceQ8AAAC48x4AAABw5z0AAADgznsAAADAnfcAAACAO+8BAAAAd94DAAAA7rwHAAAA3HkPAAAAuPMeAAAAcOc9AAAA4M57AAAAwJ33AAAAgDvvAQAAAHfeAwAAAO68BwAAANx5DwAAALjzHgAAAHDnPQAAAODOewAAAMCd9wAAAIA77wEAAAB33gMAAADuvAcAAADceQ8AAAC48x4AAABw5z0AAADgznsAAADAnfcAAACAO+8BAAAAd94DAAAA7rwHAAAA3HkPAAAAuPMeAAAAcOc9AAAA4M57AAAAwJ33AAAAgDvvAQAAAHfeAwAAAO68BwAAANx5DwAAALjzHgAAAHDnPQAAAODOewAAAMCd9wAAAIA77wEAAAB33gMAAADuvAcAAADceQ8AAAC48x4AAABw5z0AAADgznsAAADAnfcAAACAO+8BAAAAd94DAAAA7rwHAAAA3HkPAAAAuPMeAAAAcOc9AAAA4M57AAAAwJ33AAAAgDvvAQAAAHfeAwAAAO68BwAAANx5DwAAALjzHgAAAHDnPQAAAODOewAAAMCd9wAAAIA77wEAAAB33gMAAADuvAcAAADceQ8AAAC48x4AAABw5z0AAADgznsAAADAnfcAAACAO+8BAAAAd94DAAAA7rwHAAAA3HkPAAAAuPMeAAAAcOc9AAAA4M57AAAAwJ33AAAAgDvvAQAAAHfeAwAAAO68BwAAANx5DwAAALjzHgAAAHDnPQAAAODOewAAAMCd9wAAAIA77wEAAAB33gMAAADuvAcAAADceQ8AAAC48x4AAABw5z0AAADgznsAAADAnfcAAACAO+8BAAAAd94DAAAA7rwHAAAA3HkPAAAAuPMeAAAAcOc9AAAA4M57AAAAwJ33AAAAgDvvAQAAAHfeAwAAAO68BwAAANx5DwAAALjzHgAAAHDnPQAAAODOewAAAMCd9wAAAIA77wEAAAB33gMAAADuvAcAAADceQ8AAAC48x4AAABw5z0AAADgznsAAADAnfcAAACAO+8BAAAAd94DAAAA7rwHAAAA3HkPAAAAuPMeAAAAcOc9AAAA4M57AAAAwJ33AAAAgDvvAQAAAHfeAwAAAO68BwAAANx5DwAAALjzHgAAAHDnPQAAAODOewAAAMCd9wAAAIA77wEAAAB33gMAAADuvAcAAAAc/X8f5G0I35j2lwAAAABJRU5ErkJggg==' style='width:500.0px;height:300.0px;' /><div style='position: absolute; top:0; left:0; padding:1px 3px; background: #777; color:#fff; font-size: 90%; font-family:sans-serif; '>snapshot</div></div>"
      ],
      "text/plain": [
       "JupyterWgpuCanvas()"
      ]
     },
     "execution_count": 3,
     "metadata": {},
     "output_type": "execute_result"
    }
   ],
   "source": [
    "canvas = WgpuCanvas()\n",
    "renderer = gfx.WgpuRenderer(canvas)\n",
    "scene = gfx.Scene()\n",
    "colors = [(255, 0, 0, 1.0), (0, 255, 0, 1.0), (0, 0, 255, 1.0), (255, 255, 0, 1.0), (0, 255, 255, 1.0), (255, 0, 255, 1.0)]\n",
    "for i, instance in enumerate(instances):\n",
    "    instance_np = instance.numpy()\n",
    "    instance_np -= 100\n",
    "    positions = np.hstack((instance_np, np.ones((instance_np.shape[0], 1)))).astype(np.float32)\n",
    "    points = gfx.Points(\n",
    "        gfx.Geometry(positions=positions),\n",
    "        gfx.PointsMaterial(size=4, color=(255, 255, 255, 1.0)),\n",
    "    )\n",
    "    scene.add(points)\n",
    "    for index1, index2 in instance.skeleton.edge_inds:\n",
    "        edge = instance_np[[index1, index2]]\n",
    "        edge = np.hstack((edge, np.ones((edge.shape[0], 1)))).astype(np.float32)\n",
    "        scene.add(gfx.Line(\n",
    "            gfx.Geometry(positions=edge),\n",
    "            gfx.LineMaterial(color=colors[i], thickness=1.0),\n",
    "        ))\n",
    "\n",
    "scene.add(gfx.Background(material=gfx.BackgroundMaterial(\"#000000\")))\n",
    "\n",
    "camera = gfx.OrthographicCamera(image_width, image_height)\n",
    "canvas.request_draw(lambda: renderer.render(scene, camera))\n",
    "canvas"
   ]
  }
 ],
 "metadata": {
  "kernelspec": {
   "display_name": "sleap-io",
   "language": "python",
   "name": "python3"
  },
  "language_info": {
   "codemirror_mode": {
    "name": "ipython",
    "version": 3
   },
   "file_extension": ".py",
   "mimetype": "text/x-python",
   "name": "python",
   "nbconvert_exporter": "python",
   "pygments_lexer": "ipython3",
   "version": "3.12.4"
  }
 },
 "nbformat": 4,
 "nbformat_minor": 2
}
