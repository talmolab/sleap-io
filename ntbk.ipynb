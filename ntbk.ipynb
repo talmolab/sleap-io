{
 "cells": [
  {
   "cell_type": "code",
   "execution_count": 63,
   "metadata": {},
   "outputs": [],
   "source": [
    "import sleap_io as sio\n",
    "import ndx_pose as ndp\n",
    "from pynwb import NWBFile, NWBHDF5IO, get_class\n",
    "import numpy as np\n",
    "from pynwb.file import Subject\n",
    "from ndx_pose import (\n",
    "    PoseEstimationSeries,\n",
    "    PoseEstimation,\n",
    ")\n",
    "from sleap_io.io.nwb import read_nwb, convert_nwb\n",
    "# TrainingFrame = get_class('TrainingFrame', 'ndx-pose')\n",
    "# TrainingFrames = get_class('TrainingFrames', 'ndx-pose')\n",
    "# SourceVideos = get_class('SourceVideos', 'ndx-pose')\n",
    "# PoseTraining = get_class('PoseTraining', 'ndx-pose')"
   ]
  },
  {
   "cell_type": "code",
   "execution_count": 56,
   "metadata": {},
   "outputs": [
    {
     "name": "stderr",
     "output_type": "stream",
     "text": [
      "/Users/keya/mambaforge3/envs/io_dev/lib/python3.12/site-packages/hdmf/utils.py:668: UserWarning: Ignoring cached namespace 'core' version 2.6.0-alpha because version 2.7.0 is already loaded.\n",
      "  return func(args[0], **pargs)\n"
     ]
    }
   ],
   "source": [
    "path = \"/Users/keya/salk/io_fork/tests/data/nwb/centered_pair_predictions.nwb\"\n",
    "labels = read_nwb(path)"
   ]
  },
  {
   "cell_type": "markdown",
   "metadata": {},
   "source": []
  },
  {
   "cell_type": "code",
   "execution_count": 61,
   "metadata": {},
   "outputs": [
    {
     "name": "stdout",
     "output_type": "stream",
     "text": [
      "Labels(labeled_frames=1100, videos=1, skeletons=1, tracks=27, suggestions=0)\n",
      "[Video(filename=\"/Users/keya/salk/io_fork/tests/data/videos/centered_pair_low_quality.mp4\", shape=(1100, 384, 384, 1), backend=MediaVideo)] \n",
      " [Skeleton(nodes=[\"head\", \"neck\", \"thorax\", \"abdomen\", \"wingL\", \"wingR\", \"forelegL1\", \"forelegL2\", \"forelegL3\", \"forelegR1\", \"forelegR2\", \"forelegR3\", \"midlegL1\", \"midlegL2\", \"midlegL3\", \"midlegR1\", \"midlegR2\", \"midlegR3\", \"hindlegL1\", \"hindlegL2\", \"hindlegL3\", \"hindlegR1\", \"hindlegR2\", \"hindlegR3\"], edges=[(2, 1), (1, 0), (2, 3), (2, 4), (2, 5), (2, 6), (6, 7), (7, 8), (2, 9), (9, 10), (10, 11), (2, 12), (12, 13), (13, 14), (2, 15), (15, 16), (16, 17), (2, 18), (18, 19), (19, 20), (2, 21), (21, 22), (22, 23)])] \n",
      " [Track(name='track0'), Track(name='track1'), Track(name='track2'), Track(name='track3'), Track(name='track4'), Track(name='track5'), Track(name='track6'), Track(name='track7'), Track(name='track8'), Track(name='track9'), Track(name='track10'), Track(name='track11'), Track(name='track12'), Track(name='track13'), Track(name='track14'), Track(name='track15'), Track(name='track16'), Track(name='track17'), Track(name='track18'), Track(name='track19'), Track(name='track20'), Track(name='track21'), Track(name='track22'), Track(name='track23'), Track(name='track24'), Track(name='track25'), Track(name='track26')] \n",
      " [LabeledFrame(video=Video(filename=\"/Users/keya/salk/io_fork/tests/data/videos/centered_pair_low_quality.mp4\", shape=(1100, 384, 384, 1), backend=MediaVideo), frame_idx=0, instances=[PredictedInstance(points=[[201.0, 186.0], [213.0, 189.0], [235.0, 194.0], [264.0, 201.0], [284.0, 205.0], [284.0, 205.0], [215.0, 200.0], [203.0, 201.0], [187.0, 201.0], [220.0, 179.0], [212.0, 174.0], [206.0, 167.0], [228.0, 207.0], [225.0, 218.0], [216.0, 239.0], [236.0, 179.0], [232.0, 171.0], [229.0, 150.0], [238.0, 208.0], [248.0, 215.0], [264.0, 235.0], [242.0, 182.0], [254.0, 184.0], [268.0, 175.0]], track=\"track0\", score=0.80, tracking_score=None), PredictedInstance(points=[[89.0, 205.0], [100.0, 201.0], [126.0, 193.0], [151.0, 161.0], [180.0, 175.0], [178.0, 174.0], [nan, nan], [nan, nan], [nan, nan], [104.0, 185.0], [94.0, 178.0], [87.0, 165.0], [nan, nan], [nan, nan], [nan, nan], [112.0, 178.0], [107.0, 169.0], [88.0, 153.0], [nan, nan], [nan, nan], [nan, nan], [120.0, 179.0], [125.0, 163.0], [132.0, 141.0]], track=\"track1\", score=0.49, tracking_score=None)]), LabeledFrame(video=Video(filename=\"/Users/keya/salk/io_fork/tests/data/videos/centered_pair_low_quality.mp4\", shape=(1100, 384, 384, 1), backend=MediaVideo), frame_idx=1, instances=[PredictedInstance(points=[[201.0, 185.0], [213.0, 188.0], [235.0, 193.0], [264.0, 200.0], [284.0, 204.0], [284.0, 204.0], [216.0, 199.0], [204.0, 200.0], [188.0, 201.0], [220.0, 179.0], [213.0, 173.0], [207.0, 166.0], [229.0, 206.0], [226.0, 217.0], [218.0, 239.0], [236.0, 178.0], [233.0, 170.0], [230.0, 149.0], [238.0, 207.0], [248.0, 214.0], [265.0, 234.0], [243.0, 181.0], [254.0, 183.0], [269.0, 175.0]], track=\"track0\", score=0.80, tracking_score=None), PredictedInstance(points=[[89.0, 206.0], [100.0, 202.0], [126.0, 193.0], [152.0, 162.0], [180.0, 176.0], [178.0, 175.0], [nan, nan], [nan, nan], [nan, nan], [103.0, 185.0], [94.0, 181.0], [86.0, 170.0], [nan, nan], [nan, nan], [nan, nan], [113.0, 179.0], [108.0, 170.0], [91.0, 153.0], [nan, nan], [nan, nan], [nan, nan], [120.0, 180.0], [125.0, 162.0], [133.0, 140.0]], track=\"track1\", score=0.50, tracking_score=None)]), LabeledFrame(video=Video(filename=\"/Users/keya/salk/io_fork/tests/data/videos/centered_pair_low_quality.mp4\", shape=(1100, 384, 384, 1), backend=MediaVideo), frame_idx=2, instances=[PredictedInstance(points=[[201.0, 185.0], [213.0, 188.0], [235.0, 193.0], [264.0, 199.0], [284.0, 203.0], [284.0, 203.0], [215.0, 199.0], [202.0, 200.0], [188.0, 201.0], [220.0, 179.0], [212.0, 174.0], [207.0, 167.0], [228.0, 206.0], [226.0, 218.0], [218.0, 239.0], [236.0, 178.0], [232.0, 170.0], [231.0, 149.0], [238.0, 207.0], [248.0, 214.0], [265.0, 235.0], [242.0, 181.0], [255.0, 183.0], [270.0, 175.0]], track=\"track0\", score=0.78, tracking_score=None), PredictedInstance(points=[[90.0, 207.0], [101.0, 203.0], [127.0, 193.0], [152.0, 163.0], [180.0, 177.0], [181.0, 176.0], [nan, nan], [nan, nan], [nan, nan], [102.0, 188.0], [93.0, 188.0], [84.0, 188.0], [nan, nan], [nan, nan], [nan, nan], [113.0, 181.0], [109.0, 171.0], [91.0, 152.0], [nan, nan], [nan, nan], [nan, nan], [121.0, 181.0], [126.0, 162.0], [133.0, 141.0]], track=\"track1\", score=0.45, tracking_score=None)]), LabeledFrame(video=Video(filename=\"/Users/keya/salk/io_fork/tests/data/videos/centered_pair_low_quality.mp4\", shape=(1100, 384, 384, 1), backend=MediaVideo), frame_idx=3, instances=[PredictedInstance(points=[[200.0, 185.0], [213.0, 187.0], [235.0, 192.0], [264.0, 199.0], [283.0, 203.0], [284.0, 203.0], [215.0, 199.0], [203.0, 200.0], [189.0, 202.0], [220.0, 178.0], [211.0, 173.0], [207.0, 167.0], [228.0, 205.0], [226.0, 217.0], [219.0, 238.0], [235.0, 178.0], [233.0, 169.0], [231.0, 149.0], [238.0, 206.0], [248.0, 214.0], [266.0, 234.0], [242.0, 180.0], [254.0, 183.0], [271.0, 175.0]], track=\"track0\", score=0.78, tracking_score=None), PredictedInstance(points=[[91.0, 207.0], [101.0, 202.0], [128.0, 193.0], [153.0, 163.0], [180.0, 176.0], [181.0, 177.0], [nan, nan], [nan, nan], [nan, nan], [100.0, 190.0], [84.0, 191.0], [67.0, 193.0], [nan, nan], [nan, nan], [nan, nan], [113.0, 181.0], [110.0, 171.0], [93.0, 152.0], [nan, nan], [nan, nan], [nan, nan], [121.0, 181.0], [127.0, 162.0], [134.0, 141.0]], track=\"track1\", score=0.47, tracking_score=None)]), LabeledFrame(video=Video(filename=\"/Users/keya/salk/io_fork/tests/data/videos/centered_pair_low_quality.mp4\", shape=(1100, 384, 384, 1), backend=MediaVideo), frame_idx=4, instances=[PredictedInstance(points=[[199.0, 185.0], [212.0, 188.0], [235.0, 192.0], [263.0, 198.0], [283.0, 202.0], [283.0, 202.0], [215.0, 199.0], [203.0, 200.0], [191.0, 202.0], [219.0, 178.0], [209.0, 174.0], [200.0, 168.0], [228.0, 205.0], [226.0, 217.0], [221.0, 238.0], [234.0, 178.0], [233.0, 169.0], [233.0, 150.0], [237.0, 206.0], [248.0, 213.0], [267.0, 233.0], [242.0, 180.0], [254.0, 182.0], [272.0, 175.0]], track=\"track0\", score=0.77, tracking_score=None), PredictedInstance(points=[[92.0, 207.0], [102.0, 202.0], [129.0, 194.0], [154.0, 165.0], [183.0, 178.0], [183.0, 178.0], [nan, nan], [nan, nan], [nan, nan], [101.0, 190.0], [84.0, 189.0], [63.0, 189.0], [nan, nan], [nan, nan], [nan, nan], [115.0, 181.0], [111.0, 171.0], [94.0, 152.0], [nan, nan], [nan, nan], [nan, nan], [122.0, 181.0], [128.0, 163.0], [135.0, 141.0]], track=\"track1\", score=0.49, tracking_score=None)])]\n"
     ]
    }
   ],
   "source": [
    "print(labels)\n",
    "print(labels.videos, \"\\n\", labels.skeletons, \"\\n\", labels.tracks, \"\\n\", labels.labeled_frames[:5])"
   ]
  },
  {
   "cell_type": "code",
   "execution_count": null,
   "metadata": {},
   "outputs": [],
   "source": [
    "path2 = \"/Users/keya/salk/io_fork/tests/data/nwb/centered_pair_predictions.slp\"\n"
   ]
  },
  {
   "cell_type": "code",
   "execution_count": 20,
   "metadata": {},
   "outputs": [
    {
     "name": "stdout",
     "output_type": "stream",
     "text": [
      "SLEAP_VIDEO_000_centered_pair_small pynwb.base.ProcessingModule at 0x5866207472\n",
      "Fields:\n",
      "  data_interfaces: {\n",
      "    untracked000 <class 'ndx_pose.pose.PoseEstimation'>,\n",
      "    untracked001 <class 'ndx_pose.pose.PoseEstimation'>\n",
      "  }\n",
      "  description: Processed SLEAP pose data for centered_pair_small.mp4 with Skeleton-0 skeleton.\n",
      "\n"
     ]
    },
    {
     "name": "stderr",
     "output_type": "stream",
     "text": [
      "/Users/keya/mambaforge3/envs/io_dev/lib/python3.12/site-packages/hdmf/utils.py:668: UserWarning: Ignoring cached namespace 'core' version 2.6.0-alpha because version 2.7.0 is already loaded.\n",
      "  return func(args[0], **pargs)\n"
     ]
    }
   ],
   "source": [
    "path = \"/Users/keya/salk/io_fork/tests/data/slp/minimal_instance_w_prediction.nwb\"\n",
    "with NWBHDF5IO(path, mode=\"r\") as io:\n",
    "    read_nwbfile = io.read()\n",
    "    #print(read_nwbfile)``\n",
    "    print(read_nwbfile.processing[\"SLEAP_VIDEO_000_centered_pair_small\"])"
   ]
  },
  {
   "cell_type": "code",
   "execution_count": 23,
   "metadata": {},
   "outputs": [
    {
     "name": "stderr",
     "output_type": "stream",
     "text": [
      "/Users/keya/mambaforge3/envs/io_dev/lib/python3.12/site-packages/hdmf/utils.py:668: UserWarning: Ignoring cached namespace 'core' version 2.6.0-alpha because version 2.7.0 is already loaded.\n",
      "  return func(args[0], **pargs)\n"
     ]
    }
   ],
   "source": [
    "path = \"/Users/keya/salk/io_fork/tests/data/slp/minimal_instance_w_prediction.nwb\"\n",
    "with NWBHDF5IO(path, mode=\"r\") as io:\n",
    "    read_nwbfile = io.read()"
   ]
  }
 ],
 "metadata": {
  "kernelspec": {
   "display_name": "io_dev",
   "language": "python",
   "name": "python3"
  },
  "language_info": {
   "codemirror_mode": {
    "name": "ipython",
    "version": 3
   },
   "file_extension": ".py",
   "mimetype": "text/x-python",
   "name": "python",
   "nbconvert_exporter": "python",
   "pygments_lexer": "ipython3",
   "version": "3.12.4"
  }
 },
 "nbformat": 4,
 "nbformat_minor": 2
}
