{
 "cells": [
  {
   "cell_type": "code",
   "execution_count": 2,
   "metadata": {},
   "outputs": [],
   "source": [
    "import sleap_io as sio\n"
   ]
  },
  {
   "cell_type": "code",
   "execution_count": 47,
   "metadata": {},
   "outputs": [],
   "source": [
    "labels_path = \"/Users/keya/salk/io_fork/tests/data/slp/minimal_instance_w_prediction.slp\""
   ]
  },
  {
   "cell_type": "code",
   "execution_count": 38,
   "metadata": {},
   "outputs": [],
   "source": [
    "Labels = sio.load_slp(labels_path)"
   ]
  },
  {
   "cell_type": "code",
   "execution_count": 39,
   "metadata": {},
   "outputs": [
    {
     "name": "stdout",
     "output_type": "stream",
     "text": [
      "Labels(labeled_frames=1, videos=1, skeletons=1, tracks=0, suggestions=0)\n"
     ]
    }
   ],
   "source": [
    "print(Labels)"
   ]
  },
  {
   "cell_type": "code",
   "execution_count": 40,
   "metadata": {},
   "outputs": [
    {
     "name": "stderr",
     "output_type": "stream",
     "text": [
      "No accelerated colorspace conversion found from yuv420p to bgr24.\n"
     ]
    },
    {
     "name": "stdout",
     "output_type": "stream",
     "text": [
      "LabeledFrame(video=Video(filename=\"/Users/keya/salk/sleap/tests/data/videos/centered_pair_small.mp4\", shape=(1100, 384, 384, 1), backend=MediaVideo), frame_idx=0, instances=[Instance(points=[[92.65220773208894, 202.7259777426982], [152.34188115939048, 158.42364351243816]], track=None), Instance(points=[[205.9300539013689, 187.88964024221963], [278.63521449272383, 203.3658657346604]], track=None), PredictedInstance(points=[[92.27998352050781, 202.10015869140625], [151.07843017578125, 156.8594970703125]], track=None, score=1.03, tracking_score=0.00), PredictedInstance(points=[[205.28492736816406, 188.46530151367188], [277.7225646972656, 203.61599731445312]], track=None, score=0.90, tracking_score=0.00)]) \n",
      "\n",
      "[LabeledFrame(video=Video(filename=\"/Users/keya/salk/sleap/tests/data/videos/centered_pair_small.mp4\", shape=(1100, 384, 384, 1), backend=MediaVideo), frame_idx=0, instances=[Instance(points=[[92.65220773208894, 202.7259777426982], [152.34188115939048, 158.42364351243816]], track=None), Instance(points=[[205.9300539013689, 187.88964024221963], [278.63521449272383, 203.3658657346604]], track=None)])]\n"
     ]
    },
    {
     "data": {
      "text/plain": [
       "1"
      ]
     },
     "execution_count": 40,
     "metadata": {},
     "output_type": "execute_result"
    }
   ],
   "source": [
    "# Goal: create a Labels object (list of labeled frames) with only user instances\n",
    "# user_labeled_frames = []\n",
    "# for labeled_frame in Labels.labeled_frames:\n",
    "#     print(labeled_frame, \"\\n\")\n",
    "#     user_lst = []\n",
    "#     if labeled_frame.has_user_instances:\n",
    "#         labeled_frame.instances = labeled_frame.user_instances\n",
    "#         user_labeled_frames.append(labeled_frame)\n",
    "\n",
    "# print(user_labeled_frames)\n",
    "\n",
    "# len(user_labeled_frames)\n"
   ]
  },
  {
   "cell_type": "code",
   "execution_count": 46,
   "metadata": {},
   "outputs": [
    {
     "name": "stdout",
     "output_type": "stream",
     "text": [
      "Labels(labeled_frames=1, videos=1, skeletons=1, tracks=0, suggestions=0)\n"
     ]
    },
    {
     "data": {
      "text/plain": [
       "[Instance(points=[[92.65220773208894, 202.7259777426982], [152.34188115939048, 158.42364351243816]], track=None),\n",
       " Instance(points=[[205.9300539013689, 187.88964024221963], [278.63521449272383, 203.3658657346604]], track=None)]"
      ]
     },
     "execution_count": 46,
     "metadata": {},
     "output_type": "execute_result"
    }
   ],
   "source": [
    "Labels.remove_predictions()\n",
    "print(Labels)\n",
    "Labels.labeled_frames[0].instances"
   ]
  },
  {
   "cell_type": "code",
   "execution_count": 42,
   "metadata": {},
   "outputs": [
    {
     "data": {
      "text/plain": [
       "[Instance(points=[[92.65220773208894, 202.7259777426982], [152.34188115939048, 158.42364351243816]], track=None),\n",
       " Instance(points=[[205.9300539013689, 187.88964024221963], [278.63521449272383, 203.3658657346604]], track=None)]"
      ]
     },
     "execution_count": 42,
     "metadata": {},
     "output_type": "execute_result"
    }
   ],
   "source": []
  },
  {
   "cell_type": "code",
   "execution_count": 50,
   "metadata": {},
   "outputs": [
    {
     "name": "stderr",
     "output_type": "stream",
     "text": [
      "/Users/keya/mambaforge3/envs/sleap-io/lib/python3.12/site-packages/hdmf/utils.py:668: UserWarning: Ignoring cached namespace 'core' version 2.6.0-alpha because version 2.7.0 is already loaded.\n",
      "  return func(args[0], **pargs)\n"
     ]
    },
    {
     "name": "stdout",
     "output_type": "stream",
     "text": [
      "Labels(labeled_frames=1, videos=1, skeletons=1, tracks=0, suggestions=0)\n"
     ]
    }
   ],
   "source": [
    "labels_path = \"/Users/keya/salk/io_fork/tests/data/slp/minimal_instance_w_prediction.nwb\"\n",
    "Labels = sio.load_nwb(labels_path)\n",
    "print(Labels)\n"
   ]
  },
  {
   "cell_type": "code",
   "execution_count": 51,
   "metadata": {},
   "outputs": [
    {
     "name": "stdout",
     "output_type": "stream",
     "text": [
      "Labels(labeled_frames=1, videos=1, skeletons=1, tracks=0, suggestions=0)\n"
     ]
    },
    {
     "data": {
      "text/plain": [
       "sleap_io.model.labels.Labels"
      ]
     },
     "execution_count": 51,
     "metadata": {},
     "output_type": "execute_result"
    }
   ],
   "source": [
    "print(Labels)"
   ]
  },
  {
   "cell_type": "code",
   "execution_count": null,
   "metadata": {},
   "outputs": [],
   "source": []
  }
 ],
 "metadata": {
  "kernelspec": {
   "display_name": "sleap_dev",
   "language": "python",
   "name": "python3"
  },
  "language_info": {
   "codemirror_mode": {
    "name": "ipython",
    "version": 3
   },
   "file_extension": ".py",
   "mimetype": "text/x-python",
   "name": "python",
   "nbconvert_exporter": "python",
   "pygments_lexer": "ipython3",
   "version": "3.12.4"
  }
 },
 "nbformat": 4,
 "nbformat_minor": 2
}
