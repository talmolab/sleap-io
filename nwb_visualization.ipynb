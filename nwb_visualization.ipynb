{
 "cells": [
  {
   "cell_type": "code",
   "execution_count": 1,
   "metadata": {},
   "outputs": [],
   "source": [
    "from sleap_io.io.nwb import *\n",
    "from sleap_io.io.main import *\n",
    "\n",
    "from pynwb import NWBHDF5IO\n",
    "import numpy as np\n",
    "import pygfx as gfx\n",
    "from wgpu.gui.auto import WgpuCanvas"
   ]
  },
  {
   "cell_type": "code",
   "execution_count": 2,
   "metadata": {},
   "outputs": [
    {
     "data": {
      "application/vnd.jupyter.widget-view+json": {
       "model_id": "762ad17e7d454aa9943651312de74cad",
       "version_major": 2,
       "version_minor": 0
      },
      "text/plain": [
       "RFBOutputContext()"
      ]
     },
     "metadata": {},
     "output_type": "display_data"
    },
    {
     "data": {
      "application/vnd.jupyter.widget-view+json": {
       "model_id": "850319c7dc40424f900e959176bd7f7c",
       "version_major": 2,
       "version_minor": 0
      },
      "text/html": [
       "<div class='snapshot-850319c7dc40424f900e959176bd7f7c' style='position:relative;'><img src='data:image/png;base64,iVBORw0KGgoAAAANSUhEUgAAAfQAAAEsCAYAAAA1u0HIAAAFF0lEQVR42u3OoQ3AQBAEseu/6U8RC0aRDMx9d/cAgN/LAwDALg8AALs8AADs8gAAsMsDAMAuDwAAuzwAAOzyAACwywMAwC4PAAC7PAAA7PIAALDLAwDALg8AALs8AADs8gAAsMsDAMAuDwAAuzwAAOzyAACwywMAwC4PAAC7PAAA7PIAALDLAwDALg8AALs8AADs8gAAsMsDAMAuDwAAuzwAAOzyAACwywMAwC4PAAC7PAAA7PIAALDLAwDALg8AALs8AADs8gAAsMsDAMAuDwAAuzwAAOzyAACwywMAwC4PAAC7PAAA7PIAALDLAwDALg8AALs8AADs8gAAsMsDAMAuDwAAuzwAAOzyAACwywMAwC4PAAC7PAAA7PIAALDLAwDALg8AALs8AADs8gAAsMsDAMAuDwAAuzwAAOzyAACwywMAwC4PAAC7PAAA7PIAALDLAwDALg8AALs8AADs8gAAsMsDAMAuDwAAuzwAAOzyAACwywMAwC4PAAC7PAAA7PIAALDLAwDALg8AALs8AADs8gAAsMsDAMAuDwAAuzwAAOzyAACwywMAwC4PAAC7PAAA7PIAALDLAwDALg8AALs8AADs8gAAsMsDAMAuDwAAuzwAAOzyAACwywMAwC4PAAC7PAAA7PIAALDLAwDALg8AALs8AADs8gAAsMsDAMAuDwAAuzwAAOzyAACwywMAwC4PAAC7PAAA7PIAALDLAwDALg8AALs8AADs8gAAsMsDAMAuDwAAuzwAAOzyAACwywMAwC4PAAC7PAAA7PIAALDLAwDALg8AALs8AADs8gAAsMsDAMAuDwAAuzwAAOzyAACwywMAwC4PAAC7PAAA7PIAALDLAwDALg8AALs8AADs8gAAsMsDAMAuDwAAuzwAAOzyAACwywMAwC4PAAC7PAAA7PIAALDLAwDALg8AALs8AADs8gAAsMsDAMAuDwAAuzwAAOzyAACwywMAwC4PAAC7PAAA7PIAALDLAwDALg8AALs8AADs8gAAsMsDAMAuDwAAuzwAAOzyAACwywMAwC4PAAC7PAAA7PIAALDLAwDALg8AALs8AADs8gAAsMsDAMAuDwAAuzwAAOzyAACwywMAwC4PAAC7PAAA7PIAALDLAwDALg8AALs8AADs8gAAsMsDAMAuDwAAuzwAAOzyAACwywMAwC4PAAC7PAAA7PIAALDLAwDALg8AALs8AADs8gAAsMsDAMAuDwAAuzwAAOzyAACwywMAwC4PAAC7PAAA7PIAALDLAwDALg8AALs8AADs8gAAsMsDAMAuDwAAuzwAAOzyAACwywMAwC4PAAC7PAAA7PIAALDLAwDALg8AALs8AADs8gAAsMsDAMAuDwAAuzwAAOzyAACwywMAwC4PAAC7PAAA7PIAALDLAwDALg8AALs8AADs8gAAsMsDAMAuDwAAuzwAAOzyAACwywMAwC4PAAC7PAAA7PIAALDLAwDALg8AALs8AADs8gAAsMsDAMAuDwAAuzwAAOzyAACwywMAwC4PAAC7PAAA7PIAALDLAwDALg8AALs8AADs8gAAsMsDAMAuDwAAuzwAAOzyAACwywMAwC4PAAC7PAAA7PIAALDLAwDALg8AALs8AADs8gAAsMsDAMAuDwAAuzwAAOzyAACwywMAwC4PAAC7PAAA7PIAALDLAwDALg8AALs8AADs8gAAsMsDAMAuDwAAuzwAAOzyAACwywMAwC4PAAC7PAAAjD55hsg6E4cw0gAAAABJRU5ErkJggg==' style='width:500.0px;height:300.0px;' /><div style='position: absolute; top:0; left:0; padding:1px 3px; background: #777; color:#fff; font-size: 90%; font-family:sans-serif; '>snapshot</div></div>"
      ],
      "text/plain": [
       "JupyterWgpuCanvas()"
      ]
     },
     "execution_count": 2,
     "metadata": {},
     "output_type": "execute_result"
    }
   ],
   "source": [
    "canvas = WgpuCanvas()\n",
    "renderer = gfx.WgpuRenderer(canvas)\n",
    "scene = gfx.Scene()\n",
    "colors = [(255, 0, 0, 1.0), (0, 255, 0, 1.0), (0, 0, 255, 1.0), (255, 255, 0, 1.0), (0, 255, 255, 1.0), (255, 0, 255, 1.0)]\n",
    "\n",
    "with NWBHDF5IO(\"tests/data/nwb/labels.v002.nwb\", mode=\"r\", load_namespaces=True) as io:\n",
    "    nwbfile = io.read()\n",
    "    processing_module = list(nwbfile.processing.values())[0]\n",
    "    pose_training = processing_module.data_interfaces[\"PoseTraining\"]\n",
    "    training_frames = list(pose_training.training_frames.training_frames.values())\n",
    "    # frame_index = input(f\"Enter the index of the frame you want to visualize (range: {0} - {len(training_frames)-1}): \")\n",
    "    frame_index = 0\n",
    "    skeleton_instances = training_frames[int(frame_index)].skeleton_instances\n",
    "    skeleton_instances_list = list(skeleton_instances.skeleton_instances.values())\n",
    "\n",
    "    for i, instance in enumerate(skeleton_instances_list):\n",
    "        node_locations = np.array(instance.node_locations)\n",
    "        node_locations -= 100\n",
    "        node_locations = np.hstack((node_locations, np.ones((node_locations.shape[0], 1)))).astype(np.float32)\n",
    "        points = gfx.Points(\n",
    "            gfx.Geometry(positions=node_locations),\n",
    "            gfx.PointsMaterial(size=4, color=(255, 255, 255, 1.0)),\n",
    "        )\n",
    "        scene.add(points)\n",
    "\n",
    "        for node1, node2 in instance.skeleton.edges:\n",
    "            edge = node_locations[[node1, node2]]\n",
    "            scene.add(gfx.Line(\n",
    "                gfx.Geometry(positions=edge),\n",
    "                gfx.LineMaterial(color=colors[i], thickness=1.0),\n",
    "            ))\n",
    "\n",
    "scene.add(gfx.Background(material=gfx.BackgroundMaterial(\"#000000\")))\n",
    "camera = gfx.OrthographicCamera(1, 1)\n",
    "canvas.request_draw(lambda: renderer.render(scene, camera))\n",
    "canvas"
   ]
  }
 ],
 "metadata": {
  "kernelspec": {
   "display_name": "io_dev",
   "language": "python",
   "name": "python3"
  },
  "language_info": {
   "codemirror_mode": {
    "name": "ipython",
    "version": 3
   },
   "file_extension": ".py",
   "mimetype": "text/x-python",
   "name": "python",
   "nbconvert_exporter": "python",
   "pygments_lexer": "ipython3",
   "version": "3.12.4"
  }
 },
 "nbformat": 4,
 "nbformat_minor": 2
}
